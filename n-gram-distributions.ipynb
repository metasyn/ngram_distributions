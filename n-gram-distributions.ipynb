{
 "cells": [
  {
   "cell_type": "markdown",
   "metadata": {},
   "source": [
    "# Visualizing 272 n-gram probability distributions\n",
    "\n",
    "N-grams, or n-character-substrings, can be used to automatically detect a given text's origin language. N-grams can also be used at the word level, but here we are looking at the character level. \n",
    "\n",
    "Why do we want to do language detection? We'll by simple character frequency analysis, we can make some great features that allow for us to (usually) classify a language as Korean, English, Russian, or what have you. Some of this will be low haning fruit, because, believe it or not, using the frequency of Japanese characters (kana) is a dead give away that the language is Japanese. Korean too, is very easy to detect. \n",
    "\n",
    "However, things start to get more tricky since most writing systems or orthographies are shared by a larger group of languages. It gets even trickier when the text is short ! For many languages, unigram, bigram, trigram, and so on frequencies have already been compiled. For many smaller languages, large resources of text are not readily available on the web.\n",
    "\n",
    "What data should we use? This entire notebook is exploratory/for fun, so we're choosing something small. But we'd also like something that is highly translated (already). Thankfully the NLTK folk have put together a corpus of the Universal Declaration of Human Rights, which aside from its political importance, is one of the most translated documents in the world (well, at least at one point).  However, the domain of language use, by all means, is not reflective of casual speech for example, so it is important to keep that in mind as move forward. Not only are we focusing on a specific domain of language use, but register.\n",
    "\n",
    "Letter (character) frequency analysis actually has a rich history, dating back to the 50's. Claude Shannon, the father of Information Theory, published a paper [\"Prediction and Entropy of Printed English - 1950](http://languagelog.ldc.upenn.edu/myl/Shannon1950.pdf) that is impossible to not mention here. Two seminal papers in the field of computational language identification include:\n",
    " - N-gram based text categorization - [Cavnar and Trenkle (1994)](http://odur.let.rug.nl/~vannoord/TextCat/textcat.pdf)\n",
    " - Statistical Identification of Language - [Dunning 1994](https://www.researchgate.net/profile/Ted_Dunning/publication/2263394_Statistical_Identification_of_Language/links/0deec51cb2675ae546000000.pdf)\n",
    " \n",
    " Even more recent surveys of the field, advancements, motivations, and applications can be found here:\n",
    " - An n-gram-based language identification algorithm for\n",
    "variable-length and variable-language texts - [Pethő & Mózes (2014)](http://argumentum.unideb.hu/2014-anyagok/pethog_mozese.pdf)\n",
    " \n",
    "Although singificantly more accurate and advanced approaches exist using word-level ngrams, the performance of unigram and bigram frequencies with **small** datasets quite surprising (and frankly, interesting).\n",
    "\n",
    "bigram / bits\n",
    "http://www.entish.org/lang-id-preso/lang-id-preso.pdf\n",
    "\n",
    "smoothing\n",
    "http://nlp.stanford.edu/~wcmac/papers/20050421-smoothing-tutorial.pdf\n",
    "\n",
    "shared task dataset\n",
    "http://corporavm.uni-koeln.de/vardial/sharedtask.html\n"
   ]
  },
  {
   "cell_type": "markdown",
   "metadata": {},
   "source": [
    "# Outline\n",
    "\n",
    "I will walk through calculating n-gram probabilities using the ever popular scikit learn machine learning library. I've commented quite a few of the cells in case you are unfamiliar with some of these libraries.\n",
    "\n",
    "I personally find that commented code isn't that annoying for someone who knows what is going on, but potentially really helpful for someone who is just getting the hang of the py-data ecosystem. \n",
    "\n",
    "Futher more, we will look at visualizing this data from a variety of angles using seaborn and plotly. The analysis is broken up into a few different parts.\n",
    "\n",
    "1.) ETL - Extraction, transformation and loadying\n",
    " - load data\n",
    " - clean data\n",
    " - extract features\n",
    " - create training and testing sets for our classifiers\n",
    "\n",
    "2.) Classification\n",
    " - train some classifiers (training data)\n",
    " - evaluate their performance (testing data)\n",
    " \n",
    "3.) Visualize\n",
    " - reduce dimensionality\n",
    "     - PCA\n",
    "     - TSNE\n",
    "     - SVD\n",
    "     - ICA\n",
    " - scatter plots\n",
    " - bubble plots\n",
    " - 3D plots\n",
    " "
   ]
  },
  {
   "cell_type": "code",
   "execution_count": 1,
   "metadata": {
    "collapsed": false
   },
   "outputs": [
    {
     "name": "stderr",
     "output_type": "stream",
     "text": [
      "/usr/local/lib/python3.4/site-packages/matplotlib/__init__.py:872: UserWarning: axes.color_cycle is deprecated and replaced with axes.prop_cycle; please use the latter.\n",
      "  warnings.warn(self.msg_depr % (key, alt_key))\n"
     ]
    }
   ],
   "source": [
    "# used to interact with the operating system\n",
    "import os\n",
    "\n",
    "# numpy is for numerical operations\n",
    "import numpy as np\n",
    "\n",
    "# pandas is for PANel DAta\n",
    "import pandas as pd\n",
    "\n",
    "# seaborn is for visualization\n",
    "import seaborn as sns\n",
    "\n",
    "# cufflinks is for visualization\n",
    "# it comes from plotly\n",
    "import cufflinks as cf\n",
    "\n",
    "# this makes matplotlib show inline\n",
    "%matplotlib inline\n",
    "\n",
    "# used in the ETL process\n",
    "from sklearn.cross_validation import train_test_split\n",
    "from sklearn.feature_extraction.text import CountVectorizer as CV\n",
    "\n",
    "# used in the classification process\n",
    "from sklearn.linear_model import LogisticRegression\n",
    "from sklearn.naive_bayes import MultinomialNB\n",
    "\n",
    "# used to compare classifiers\n",
    "from sklearn.metrics import precision_recall_fscore_support\n",
    "\n",
    "# used in the visualization process\n",
    "from matplotlib import pyplot as plt\n",
    "from sklearn.decomposition import PCA\n",
    "\n"
   ]
  },
  {
   "cell_type": "markdown",
   "metadata": {},
   "source": [
    "# ETL\n",
    "\n"
   ]
  },
  {
   "cell_type": "code",
   "execution_count": 2,
   "metadata": {
    "collapsed": true
   },
   "outputs": [],
   "source": [
    "UDHR_CORPUS = \"/Users/aljohnson/nltk_data/corpora/udhr/\""
   ]
  },
  {
   "cell_type": "code",
   "execution_count": 3,
   "metadata": {
    "collapsed": false
   },
   "outputs": [],
   "source": [
    "FILE_NAMES = [f for f in os.listdir(UDHR_CORPUS) if ('UTF8' in f) or ('Latin1' in f)]"
   ]
  },
  {
   "cell_type": "code",
   "execution_count": 4,
   "metadata": {
    "collapsed": false
   },
   "outputs": [],
   "source": [
    "def file_reader(f):\n",
    "    if 'UTF8' in f:\n",
    "        with open(UDHR_CORPUS + f, 'r', encoding='UTF8', errors='ignore') as infile:\n",
    "            blob = infile.readlines()\n",
    "            return blob\n",
    "    elif 'Latin1' in f:\n",
    "        with open(UDHR_CORPUS + f, 'r', encoding='Latin1', errors='ignore') as infile:\n",
    "            blob = infile.readlines()\n",
    "            return blob"
   ]
  },
  {
   "cell_type": "code",
   "execution_count": 5,
   "metadata": {
    "collapsed": false
   },
   "outputs": [],
   "source": [
    "data = []\n",
    "for f in FILE_NAMES:\n",
    "    lines = file_reader(f)\n",
    "    for line in lines:\n",
    "        data.append([f, line.strip()])"
   ]
  },
  {
   "cell_type": "code",
   "execution_count": 6,
   "metadata": {
    "collapsed": true
   },
   "outputs": [],
   "source": [
    "# Add columns\n",
    "df = pd.DataFrame(data, columns=['language', 'text'])\n",
    "\n",
    "# Removing encoding from name\n",
    "df.language = df.language.map(lambda x: x.split('-')[:-1][0])\n",
    "\n",
    "# remove ending new lines\n",
    "df.text = df.text.map(lambda x: x.strip())"
   ]
  },
  {
   "cell_type": "code",
   "execution_count": 7,
   "metadata": {
    "collapsed": false
   },
   "outputs": [
    {
     "data": {
      "text/html": [
       "<div>\n",
       "<table border=\"1\" class=\"dataframe\">\n",
       "  <thead>\n",
       "    <tr style=\"text-align: right;\">\n",
       "      <th></th>\n",
       "      <th>language</th>\n",
       "      <th>text</th>\n",
       "    </tr>\n",
       "  </thead>\n",
       "  <tbody>\n",
       "    <tr>\n",
       "      <th>0</th>\n",
       "      <td>Abkhaz</td>\n",
       "      <td>﻿Ауаюытъыюса изин6ъа Зегьеицырзеи8шу Адекларациа</td>\n",
       "    </tr>\n",
       "    <tr>\n",
       "      <th>1</th>\n",
       "      <td>Abkhaz</td>\n",
       "      <td>Алагалажъа</td>\n",
       "    </tr>\n",
       "    <tr>\n",
       "      <th>2</th>\n",
       "      <td>Abkhaz</td>\n",
       "      <td>Дызус0заалак, ауаатъыюсатъ 0аацъара иалахъу ищ...</td>\n",
       "    </tr>\n",
       "    <tr>\n",
       "      <th>3</th>\n",
       "      <td>Abkhaz</td>\n",
       "      <td>иара убас ауаюы изин6ъа ратъамбареи хырюаа рым...</td>\n",
       "    </tr>\n",
       "    <tr>\n",
       "      <th>4</th>\n",
       "      <td>Abkhaz</td>\n",
       "      <td>иара убас ажълар6ъа реиюызара аизщазыяьара ацх...</td>\n",
       "    </tr>\n",
       "  </tbody>\n",
       "</table>\n",
       "</div>"
      ],
      "text/plain": [
       "  language                                               text\n",
       "0   Abkhaz   ﻿Ауаюытъыюса изин6ъа Зегьеицырзеи8шу Адекларациа\n",
       "1   Abkhaz                                         Алагалажъа\n",
       "2   Abkhaz  Дызус0заалак, ауаатъыюсатъ 0аацъара иалахъу ищ...\n",
       "3   Abkhaz  иара убас ауаюы изин6ъа ратъамбареи хырюаа рым...\n",
       "4   Abkhaz  иара убас ажълар6ъа реиюызара аизщазыяьара ацх..."
      ]
     },
     "execution_count": 7,
     "metadata": {},
     "output_type": "execute_result"
    }
   ],
   "source": [
    "df.head()"
   ]
  },
  {
   "cell_type": "code",
   "execution_count": 8,
   "metadata": {
    "collapsed": false
   },
   "outputs": [
    {
     "data": {
      "text/html": [
       "<div>\n",
       "<table border=\"1\" class=\"dataframe\">\n",
       "  <thead>\n",
       "    <tr style=\"text-align: right;\">\n",
       "      <th></th>\n",
       "      <th>language</th>\n",
       "      <th>text</th>\n",
       "    </tr>\n",
       "  </thead>\n",
       "  <tbody>\n",
       "    <tr>\n",
       "      <th>22752</th>\n",
       "      <td>Zulu</td>\n",
       "      <td>Isigaba 28</td>\n",
       "    </tr>\n",
       "    <tr>\n",
       "      <th>22753</th>\n",
       "      <td>Zulu</td>\n",
       "      <td>Wonke umuntu emphakathini nasemhlabeni kumele ...</td>\n",
       "    </tr>\n",
       "    <tr>\n",
       "      <th>22754</th>\n",
       "      <td>Zulu</td>\n",
       "      <td>Isigaba 29</td>\n",
       "    </tr>\n",
       "    <tr>\n",
       "      <th>22755</th>\n",
       "      <td>Zulu</td>\n",
       "      <td>1. Wonke umuntu uneqhaza emphakathini okuwukup...</td>\n",
       "    </tr>\n",
       "    <tr>\n",
       "      <th>22756</th>\n",
       "      <td>Zulu</td>\n",
       "      <td>2. Ekusebenziseni amalungelo nenkululeko yakhe...</td>\n",
       "    </tr>\n",
       "  </tbody>\n",
       "</table>\n",
       "</div>"
      ],
      "text/plain": [
       "      language                                               text\n",
       "22752     Zulu                                         Isigaba 28\n",
       "22753     Zulu  Wonke umuntu emphakathini nasemhlabeni kumele ...\n",
       "22754     Zulu                                         Isigaba 29\n",
       "22755     Zulu  1. Wonke umuntu uneqhaza emphakathini okuwukup...\n",
       "22756     Zulu  2. Ekusebenziseni amalungelo nenkululeko yakhe..."
      ]
     },
     "execution_count": 8,
     "metadata": {},
     "output_type": "execute_result"
    }
   ],
   "source": [
    "df.tail()"
   ]
  },
  {
   "cell_type": "code",
   "execution_count": 9,
   "metadata": {
    "collapsed": false
   },
   "outputs": [],
   "source": [
    "# test train split\n",
    "X_train, X_test, y_train, y_test = train_test_split(df.text, df.language, test_size=0.33, random_state=33)"
   ]
  },
  {
   "cell_type": "code",
   "execution_count": 10,
   "metadata": {
    "collapsed": false
   },
   "outputs": [],
   "source": [
    "def rejoin(x, y):\n",
    "    temp_df = pd.DataFrame.join(pd.DataFrame(y), pd.DataFrame(x))\n",
    "    data = []\n",
    "    for language in set(temp_df.language):\n",
    "        data.append([language,' '.join(temp_df[temp_df.language == language].text)])\n",
    "        \n",
    "    return pd.DataFrame(data, columns=['language', 'text'])"
   ]
  },
  {
   "cell_type": "code",
   "execution_count": 11,
   "metadata": {
    "collapsed": true
   },
   "outputs": [],
   "source": [
    "# we will use these throughout the notebook\n",
    "agglomed = rejoin(X_train, y_train)\n",
    "testing_df = rejoin(X_test, y_test)"
   ]
  },
  {
   "cell_type": "code",
   "execution_count": 12,
   "metadata": {
    "collapsed": false
   },
   "outputs": [
    {
     "data": {
      "text/plain": [
       "(272, 272)"
      ]
     },
     "execution_count": 12,
     "metadata": {},
     "output_type": "execute_result"
    }
   ],
   "source": [
    "# sanity check\n",
    "len(agglomed), len(testing_df)"
   ]
  },
  {
   "cell_type": "code",
   "execution_count": 13,
   "metadata": {
    "collapsed": true
   },
   "outputs": [],
   "source": [
    "def vectorize_normalize(data, ngram_range=(1,1)):\n",
    "    vectorizer = CV(analyzer='char', ngram_range=ngram_range)\n",
    "    count_matrix = vectorizer.fit_transform(data)\n",
    "    # divide by row totals for probability\n",
    "    count_matrix /= count_matrix.sum(axis=1)\n",
    "    df = pd.DataFrame(count_matrix, columns=vectorizer.get_feature_names())\n",
    "    return df"
   ]
  },
  {
   "cell_type": "code",
   "execution_count": 15,
   "metadata": {
    "collapsed": false
   },
   "outputs": [],
   "source": [
    "ngram_probs_matrix = [vectorize_normalize(agglomed.text, ngram_range=(n,n)) for n in range(1,4)]\n",
    "ngram_probs = [agglomed.join(p).drop('text', axis=1) for p in ngram_probs_matrix]"
   ]
  },
  {
   "cell_type": "code",
   "execution_count": 100,
   "metadata": {
    "collapsed": false
   },
   "outputs": [],
   "source": [
    "def plot_language_distribution(language, n=1, figsize=(20,15), ax=None):\n",
    "    if language not in agglomed.language.values:\n",
    "        return 'Not a valid language, dude.'\n",
    "    # filter\n",
    "    language_df = ngram_probs[n-1][ngram_probs[n].language == language]\n",
    "    # drop columns that are zero\n",
    "    language_df = language_df.loc[:, (language_df != 0).any(axis=0)]\n",
    "    our_plot = language_df.plot(\n",
    "        title=language, \n",
    "        kind='bar', \n",
    "        ax=ax, \n",
    "        figsize=figsize, \n",
    "        rot=45, \n",
    "        colormap='Accent')\n",
    "    \n",
    "    # change legend location\n",
    "    our_plot.legend(loc=0, ncol=15, mode='expand')\n",
    "    \n",
    "    # remove x ticks\n",
    "    our_plot.get_xaxis().set_visible(False)\n",
    "    \n",
    "    # set title\n",
    "    our_plot.set_title(language, fontdict={'fontsize': '25'})\n",
    "    \n",
    "    return our_plot"
   ]
  },
  {
   "cell_type": "code",
   "execution_count": 101,
   "metadata": {
    "collapsed": false
   },
   "outputs": [
    {
     "data": {
      "text/plain": [
       "<matplotlib.axes._subplots.AxesSubplot at 0x11f83dfd0>"
      ]
     },
     "execution_count": 101,
     "metadata": {},
     "output_type": "execute_result"
    },
    {
     "data": {
      "image/png": "[encoded data removed]",
      "text/plain": [
       "<matplotlib.figure.Figure at 0x120aec5f8>"
      ]
     },
     "metadata": {},
     "output_type": "display_data"
    }
   ],
   "source": [
    "plot_language_distribution('English')\n"
   ]
  },
  {
   "cell_type": "code",
   "execution_count": 102,
   "metadata": {
    "collapsed": true
   },
   "outputs": [],
   "source": [
    "def plot_dists(languages):\n",
    "    f, axarr = plt.subplots(len(languages))\n",
    "    for n, l in enumerate(languages):\n",
    "        plot_language_distribution(l, ax=axarr[n], figsize=(25, 20))"
   ]
  },
  {
   "cell_type": "code",
   "execution_count": 104,
   "metadata": {
    "collapsed": false
   },
   "outputs": [
    {
     "data": {
      "image/png": "[encoded data removed]",
      "text/plain": [
       "<matplotlib.figure.Figure at 0x11ba6d898>"
      ]
     },
     "metadata": {},
     "output_type": "display_data"
    }
   ],
   "source": [
    "plot_dists(['English', 'Spanish', 'Hawaiian', 'Ukrainian', 'Uzbek', 'Zulu'])"
   ]
  },
  {
   "cell_type": "code",
   "execution_count": 116,
   "metadata": {
    "collapsed": false
   },
   "outputs": [
    {
     "data": {
      "text/plain": [
       "array(['Swaheli', 'Danish_Dansk', 'Yoruba', 'Zhuang', 'Akuapem_Twi',\n",
       "       'Mayan_Yucateco', 'Russian', 'Chechewa_Nyanja', 'Korean_Hankuko',\n",
       "       'Kazakh', 'Oshiwambo_Ndonga', 'Iloko_Ilocano', 'Turkish_Turkce',\n",
       "       'TokPisin', 'Chinese_Mandarin', 'Esperanto', 'Tonga',\n",
       "       'Gagauz_Gagauzi', 'Catalan_Catala', 'Lamnso_Lam', 'Arabela',\n",
       "       'Inuktikut_Greenlandic', 'Achuar', 'Norwegian', 'Guarani',\n",
       "       'Sundanese', 'Afrikaans', 'French_Francais', 'Igbo',\n",
       "       'Batonu_Bariba', 'Maninka', 'Yao', 'Hausa_Haoussa', 'Dagaare',\n",
       "       'Kurdish', 'Interlingua', 'Ponapean', 'Hindi', 'Chuuk_Trukese',\n",
       "       'Jola', 'Estonian_Eesti', 'Bora', 'Siswati', 'Bengali',\n",
       "       'Japanese_Nihongo', 'Burmese_Myanmar', 'Corsican', 'Cashibo',\n",
       "       'Tamil', 'Chamorro', 'Minangkabau', 'Luvale',\n",
       "       'HaitianCreole_Popular', 'Serbian_Srpski', 'OccitanLanguedocien',\n",
       "       'Farsi_Persian', 'Tenek_Huasteco', 'Dendi', 'Sukuma',\n",
       "       'Uighur_Uyghur', 'Swedish_Svenska', 'Filipino_Tagalog', 'Breton',\n",
       "       'Wama', 'SolomonsPidgin_Pijin', 'Latvian', 'Frisian', 'Dangme',\n",
       "       'Sanskrit', 'Tongan_Tonga', 'Runyankore', 'Hindi_web', 'Maori',\n",
       "       'Hani', 'Hiligaynon', 'Huasteco', 'Yagua', 'Amarakaeri',\n",
       "       'Albanian_Shqip', 'Candoshi', 'Asturian_Bable',\n",
       "       'WesternSotho_Tswana', 'Marathi', 'Garifuna_Garifuna',\n",
       "       'Marshallese', 'Totonaco', 'Ditammari', 'Sami_Lappish', 'Paez',\n",
       "       'Bemba', 'Indonesian', 'Yapese', 'Zulu', 'IrishGaelic_Gaeilge',\n",
       "       'Palauan', 'Sharanahua', 'Quechua', 'Bambara', 'Mende', 'Mixteco',\n",
       "       'Chayahuita', 'Wolof', 'Peuhl', 'Wayuu', 'Aguaruna',\n",
       "       'Campa_Pajonalino', 'Dutch_Nederlands', 'Rukonzo_Konjo', 'Czech',\n",
       "       'Asante', 'Caquinte', 'Somali', 'Waray', 'Mongolian_Khalkha',\n",
       "       'Bulgarian_Balgarski', 'Trukese_Chuuk', 'Achehnese', 'Sango_Sangho',\n",
       "       'Vietnamese', 'Nyanja_Chechewa', 'Kiche_Quiche', 'Ga', 'Picard',\n",
       "       'Rhaeto', 'Shona', 'Portuguese_Portugues', 'Basque_Euskara',\n",
       "       'Uzbek', 'Matses', 'NorthernSotho_Pedi', 'Icelandic_Yslenska',\n",
       "       'Cashinahua', 'Kasem', 'Javanese', 'Baoule', 'Kapampangan',\n",
       "       'Miskito_Miskito', 'Hmong_Miao_Northern', 'Punjabi_Panjabi', 'Lao',\n",
       "       'Greek_Ellinika', 'Chickasaw', 'Tetum', 'Romani', 'Urarina',\n",
       "       'Pipil', 'ScottishGaelic_GaidhligAlbanach', 'Luba', 'Amuesha',\n",
       "       'Osetin_Ossetian', 'Chinanteco', 'Asheninca', 'Ido',\n",
       "       'Soninke_Soninkanxaane', 'Oromiffa_AfaanOromo', 'Bosnian_Bosanski',\n",
       "       'Bichelamar', 'NigerianPidginEnglish', 'Mikmaq_Micmac',\n",
       "       'Greenlandic_Inuktikut', 'Nyanja_Chinyanja', 'Malagasy', 'Madurese',\n",
       "       'Macedonian', 'Nahuatl', 'Samoan', 'Faroese', 'Cebuano', 'Toba',\n",
       "       'Kinyarwanda', 'Kicongo', 'Mazateco', 'Abkhaz', 'Hmong_Miao',\n",
       "       'Tzotzil', 'Pulaar', 'Gonja', 'Spanish_Espanol', 'Lunda_Chokwe',\n",
       "       'Amahuaca', 'Luxembourgish_Letzebuergeusch', 'Lingala',\n",
       "       'Sussu_Soussou', 'Malay_BahasaMelayu', 'Makonde', 'Dagbani',\n",
       "       'Sinhala', 'Catalan', 'Friulian_Friulano', 'Kannada', 'Bugisnese',\n",
       "       'Kaonde', 'Galician_Galego', 'Walloon_Wallon', 'Lozi', 'Maltese',\n",
       "       'Belorus_Belaruski', 'Luganda_Ganda', 'English',\n",
       "       'HaitianCreole_Kreyol', 'Italian_Italiano', 'Kpelewo', 'Xhosa',\n",
       "       'Norwegian_Norsk', 'Ngangela_Nyemba', 'Vlach', 'Bikol_Bicolano',\n",
       "       'Magahi', 'Ewe_Eve', 'Adja', 'SouthernSotho_Sotho', 'Krio',\n",
       "       'Kimbundu_Mbundu', 'Kituba', 'Italian', 'Russian_Russky', 'Fon',\n",
       "       'German_Deutsch', 'Latin_Latina', 'Balinese', 'Hebrew_Ivrit',\n",
       "       'Nomatsiguenga', 'Hawaiian', 'Huitoto_Murui', 'Tzeltal', 'Saraiki',\n",
       "       'Edo', 'Quichua', 'Fante', 'Themne_Temne', 'Otomi_Nahnu', 'Tiv',\n",
       "       'Guen_Mina', 'Finnish_Suomi', 'Rarotongan_MaoriCookIslands',\n",
       "       'Swahili_Kiswahili', 'Purhepecha', 'Mazahua_Jnatrjo',\n",
       "       'Rundi_Kirundi', 'Mapudungun_Mapuzgun', 'Kabye', 'Umbundu',\n",
       "       'OccitanAuvergnat', 'Hungarian_Magyar', 'Ndebele', 'Nepali',\n",
       "       'Sammarinese', 'Ibibio_Efik', 'Afaan_Oromo_Oromiffa',\n",
       "       'Kinyamwezi_Nyamwezi', 'Beti', 'Seereer', 'Zapoteco', 'Nzema',\n",
       "       'Ukrainian', 'Tojol', 'Tahitian', 'Sardinian', 'Shipibo',\n",
       "       'Cakchiquel', 'Mam', 'Welsh_Cymraeg', 'Cokwe', 'Aymara', 'Gujarati',\n",
       "       'Qechi_Kekchi', 'Spanish', 'Moore_More', 'Fijian', 'Ashaninca',\n",
       "       'Czech_Cesky', 'Limba'], dtype=object)"
      ]
     },
     "execution_count": 116,
     "metadata": {},
     "output_type": "execute_result"
    }
   ],
   "source": [
    "agglomed.language.values"
   ]
  },
  {
   "cell_type": "code",
   "execution_count": 117,
   "metadata": {
    "collapsed": false
   },
   "outputs": [
    {
     "data": {
      "image/png": "[encoded data removed]",
      "text/plain": [
       "<matplotlib.figure.Figure at 0x15829f6d8>"
      ]
     },
     "metadata": {},
     "output_type": "display_data"
    }
   ],
   "source": [
    "plot_dists(['Toba', 'Sardinian', 'Nepali'])"
   ]
  },
  {
   "cell_type": "code",
   "execution_count": 131,
   "metadata": {
    "collapsed": false
   },
   "outputs": [],
   "source": [
    "# hmm looks like seaborn doesn't really like displaying non latin characters evidently"
   ]
  },
  {
   "cell_type": "code",
   "execution_count": 215,
   "metadata": {
    "collapsed": false
   },
   "outputs": [],
   "source": [
    "# grab column names and shapes\n",
    "# remove first feature because its a string, 'language'\n",
    "ngram_cols = [pdist.drop('language', axis=1).columns for pdist in ngram_probs]\n",
    "ngram_shapes = [pdist.drop('language', axis=1).shape for pdist in ngram_probs]"
   ]
  },
  {
   "cell_type": "code",
   "execution_count": 216,
   "metadata": {
    "collapsed": false
   },
   "outputs": [
    {
     "data": {
      "text/plain": [
       "[Index(['\\t', ' ', '\"', '%', ''', '(', ')', '*', ',', '-',\n",
       "        ...\n",
       "        '히', '﻿', '，', '１', '２', '５', '６', '７', '８', '：'],\n",
       "       dtype='object', length=1721),\n",
       " Index(['\\tа', '\\tн', '\\tу', '\\tх', '\\tດ', ' \"', ' '', ' (', ' )', ' *',\n",
       "        ...\n",
       "        '﻿အ', '﻿世', '， ', '１条', '２条', '５条', '６条', '７条', '８条', '： '],\n",
       "       dtype='object', length=14789),\n",
       " Index(['\\tал', '\\tна', '\\tул', '\\tхv', '\\tхэ', '\\tດ້', ' \" ', ' \"a', ' \"c',\n",
       "        ' \"d',\n",
       "        ...\n",
       "        '， 大', '， 并', '， 联', '１条 ', '２条 ', '５条 ', '６条 ', '７条 ', '８条 ', '： 第'],\n",
       "       dtype='object', length=66427)]"
      ]
     },
     "execution_count": 216,
     "metadata": {},
     "output_type": "execute_result"
    }
   ],
   "source": [
    "ngram_cols"
   ]
  },
  {
   "cell_type": "code",
   "execution_count": 217,
   "metadata": {
    "collapsed": false
   },
   "outputs": [],
   "source": [
    "# get them empty features\n",
    "empty_features = [pd.DataFrame(np.zeros(shape), columns=cols) \n",
    "                  for (shape, cols) in zip(ngram_shapes, ngram_cols)]"
   ]
  },
  {
   "cell_type": "code",
   "execution_count": 218,
   "metadata": {
    "collapsed": false
   },
   "outputs": [
    {
     "data": {
      "text/plain": [
       "[((272, 1721),\n",
       "     \\t     \"  %  '  (  )  *  ,  - ...  히  ﻿  ，  １  ２  ５  ６  ７  ８  ：\n",
       "  0   0  0  0  0  0  0  0  0  0  0 ...  0  0  0  0  0  0  0  0  0  0\n",
       "  \n",
       "  [1 rows x 1721 columns]),\n",
       " ((272, 14789),\n",
       "     \\tа  \\tн  \\tу  \\tх  \\tດ   \"   '   (   )   * ...  ﻿အ  ﻿世  ，   １条  ２条  ５条  \\\n",
       "  0    0    0    0    0    0   0   0   0   0   0 ...   0   0   0   0   0   0   \n",
       "  \n",
       "     ６条  ７条  ８条  ：   \n",
       "  0   0   0   0   0  \n",
       "  \n",
       "  [1 rows x 14789 columns]),\n",
       " ((272, 66427),\n",
       "     \\tал  \\tна  \\tул  \\tхv  \\tхэ  \\tດ້   \"    \"a   \"c   \"d ...   ， 大  ， 并  ， 联  \\\n",
       "  0     0     0     0     0     0     0    0    0    0    0 ...     0    0    0   \n",
       "  \n",
       "     １条   ２条   ５条   ６条   ７条   ８条   ： 第  \n",
       "  0    0    0    0    0    0    0    0  \n",
       "  \n",
       "  [1 rows x 66427 columns])]"
      ]
     },
     "execution_count": 218,
     "metadata": {},
     "output_type": "execute_result"
    }
   ],
   "source": [
    "# sanity check\n",
    "[(shape, f.head(1)) for (shape, f) in zip(ngram_shapes, empty_features)]"
   ]
  },
  {
   "cell_type": "markdown",
   "metadata": {},
   "source": [
    "# Classification"
   ]
  },
  {
   "cell_type": "code",
   "execution_count": 219,
   "metadata": {
    "collapsed": false
   },
   "outputs": [
    {
     "name": "stdout",
     "output_type": "stream",
     "text": [
      "*%*%*%*%*%*%*%*%*%*%*%*%*%*%*%*%*%*%*%*%*%*%*%*%*%*%*%*%*%*%*%*%*%*%*%\n",
      "Classifier: LogisticRegression(C=1.0, class_weight=None, dual=False, fit_intercept=True,\n",
      "          intercept_scaling=1, max_iter=100, multi_class='ovr',\n",
      "          penalty='l2', random_state=None, solver='liblinear', tol=0.0001,\n",
      "          verbose=0)\n",
      "\n",
      "======================================================================\n",
      "n-graph distribution: 1\n",
      "feature size: (272, 1721)\n",
      "Precision: 0.5551470588235294\n",
      "Recall: 0.5551470588235294\n",
      "F1 Score: 0.5551470588235294\n",
      "\n",
      "======================================================================\n",
      "n-graph distribution: 2\n",
      "feature size: (272, 14789)\n",
      "Precision: 0.9632352941176471\n",
      "Recall: 0.9632352941176471\n",
      "F1 Score: 0.9632352941176471\n",
      "\n",
      "======================================================================\n",
      "n-graph distribution: 3\n",
      "feature size: (272, 66427)\n",
      "Precision: 0.9852941176470589\n",
      "Recall: 0.9852941176470589\n",
      "F1 Score: 0.9852941176470589\n",
      "\n",
      "*%*%*%*%*%*%*%*%*%*%*%*%*%*%*%*%*%*%*%*%*%*%*%*%*%*%*%*%*%*%*%*%*%*%*%\n",
      "Classifier: MultinomialNB(alpha=1.0, class_prior=None, fit_prior=True)\n",
      "\n",
      "======================================================================\n",
      "n-graph distribution: 1\n",
      "feature size: (272, 1721)\n",
      "Precision: 0.15808823529411764\n",
      "Recall: 0.15808823529411764\n",
      "F1 Score: 0.15808823529411764\n",
      "\n",
      "======================================================================\n",
      "n-graph distribution: 2\n",
      "feature size: (272, 14789)\n",
      "Precision: 0.9080882352941176\n",
      "Recall: 0.9080882352941176\n",
      "F1 Score: 0.9080882352941178\n",
      "\n",
      "======================================================================\n",
      "n-graph distribution: 3\n",
      "feature size: (272, 66427)\n",
      "Precision: 0.9852941176470589\n",
      "Recall: 0.9852941176470589\n",
      "F1 Score: 0.9852941176470589\n",
      "\n"
     ]
    }
   ],
   "source": [
    "# logistic regression initalization for each n-graph\n",
    "logistic_clfs = [LogisticRegression(), LogisticRegression(), LogisticRegression()]\n",
    "\n",
    "# multinomial naive bayes initlization for each n-graph\n",
    "mnb_clfs = [MultinomialNB(), MultinomialNB(), MultinomialNB()]\n",
    "\n",
    "classifier_groups = [logistic_clfs, mnb_clfs]\n",
    "\n",
    "# this is for fitting really - the scoring doesnt mean much on a training set\n",
    "for group in classifier_groups:\n",
    "    print('*%'*35)\n",
    "    print('Classifier: {}\\n'.format(group[0]))\n",
    "    \n",
    "    for i, clf in enumerate(group):\n",
    "        dist = ngram_probs_matrix[i]\n",
    "        clf.fit(dist, agglomed.language)\n",
    "        \n",
    "        # get the training scores\n",
    "        predictions = clf.predict(dist)\n",
    "        score = precision_recall_fscore_support(agglomed.language, predictions, average='micro')\n",
    "        \n",
    "        print('='*70)\n",
    "        print('n-graph distribution: {}'.format(i+1))\n",
    "        print('feature size: {}'.format(dist.shape))\n",
    "        print('Precision: {}'.format(score[0]))\n",
    "        print('Recall: {}'.format(score[1]))\n",
    "        print('F1 Score: {}\\n'.format(score[2]))\n",
    "        "
   ]
  },
  {
   "cell_type": "code",
   "execution_count": 220,
   "metadata": {
    "collapsed": true
   },
   "outputs": [],
   "source": [
    "t_ngram_probs_matrix = [vectorize_normalize(testing_df.text, ngram_range=(n,n)) for n in range(1,4)]\n",
    "t_ngram_probs = [testing_df.join(p).drop('text', axis=1) for p in ngram_probs_matrix]"
   ]
  },
  {
   "cell_type": "code",
   "execution_count": 221,
   "metadata": {
    "collapsed": false
   },
   "outputs": [
    {
     "data": {
      "text/html": [
       "<div>\n",
       "<table border=\"1\" class=\"dataframe\">\n",
       "  <thead>\n",
       "    <tr style=\"text-align: right;\">\n",
       "      <th></th>\n",
       "      <th></th>\n",
       "      <th></th>\n",
       "      <th>\"</th>\n",
       "      <th>%</th>\n",
       "      <th>'</th>\n",
       "      <th>(</th>\n",
       "      <th>)</th>\n",
       "      <th>*</th>\n",
       "      <th>+</th>\n",
       "      <th>,</th>\n",
       "      <th>...</th>\n",
       "      <th>１</th>\n",
       "      <th>２</th>\n",
       "      <th>３</th>\n",
       "      <th>４</th>\n",
       "      <th>５</th>\n",
       "      <th>６</th>\n",
       "      <th>７</th>\n",
       "      <th>８</th>\n",
       "      <th>９</th>\n",
       "      <th>：</th>\n",
       "    </tr>\n",
       "  </thead>\n",
       "  <tbody>\n",
       "    <tr>\n",
       "      <th>0</th>\n",
       "      <td>0</td>\n",
       "      <td>0.169539</td>\n",
       "      <td>0</td>\n",
       "      <td>0</td>\n",
       "      <td>0.000401</td>\n",
       "      <td>0</td>\n",
       "      <td>0</td>\n",
       "      <td>0</td>\n",
       "      <td>0</td>\n",
       "      <td>0.006814</td>\n",
       "      <td>...</td>\n",
       "      <td>0</td>\n",
       "      <td>0</td>\n",
       "      <td>0</td>\n",
       "      <td>0</td>\n",
       "      <td>0</td>\n",
       "      <td>0</td>\n",
       "      <td>0</td>\n",
       "      <td>0</td>\n",
       "      <td>0</td>\n",
       "      <td>0</td>\n",
       "    </tr>\n",
       "  </tbody>\n",
       "</table>\n",
       "<p>1 rows × 1891 columns</p>\n",
       "</div>"
      ],
      "text/plain": [
       "   \\t            \"  %         '  (  )  *  +         , ...  １  ２  ３  ４  ５  ６  \\\n",
       "0   0  0.169539  0  0  0.000401  0  0  0  0  0.006814 ...  0  0  0  0  0  0   \n",
       "\n",
       "   ７  ８  ９  ：  \n",
       "0  0  0  0  0  \n",
       "\n",
       "[1 rows x 1891 columns]"
      ]
     },
     "execution_count": 221,
     "metadata": {},
     "output_type": "execute_result"
    }
   ],
   "source": [
    "# the classifiers want the EXACT same features as input - so we're just filling in the missing features with zeros\n",
    "# is there a better way to do this?\n",
    "\n",
    "empty_features[0].add(t_ngram_probs_matrix[0], fill_value=0).head(1)"
   ]
  },
  {
   "cell_type": "code",
   "execution_count": 222,
   "metadata": {
    "collapsed": true
   },
   "outputs": [],
   "source": [
    "# add whatever features might be present in the testing data\n",
    "# to the empty matrix of potential features from the training data\n",
    "t_full = [empty_features[i].add(test_set, fill_value=0)\n",
    "         for (i, test_set) in enumerate(t_ngram_probs_matrix)]"
   ]
  },
  {
   "cell_type": "code",
   "execution_count": 224,
   "metadata": {
    "collapsed": false
   },
   "outputs": [],
   "source": [
    "# however we might've actually added NEW features from the testing data\n",
    "# so we need to reduce our features just to the training features\n",
    "# we also don't need the 'language' column\n",
    "t_reduced = [t[empty_features[i].columns]\n",
    "         for (i, t) in enumerate(t_full)]"
   ]
  },
  {
   "cell_type": "code",
   "execution_count": 225,
   "metadata": {
    "collapsed": false
   },
   "outputs": [
    {
     "data": {
      "text/plain": [
       "[((272, 1721), (272, 1721)),\n",
       " ((272, 14789), (272, 14789)),\n",
       " ((272, 66427), (272, 66427))]"
      ]
     },
     "execution_count": 225,
     "metadata": {},
     "output_type": "execute_result"
    }
   ],
   "source": [
    "# are our dimensions the same?\n",
    "[(t.shape, n) for (t, n) in zip(t_reduced, ngram_shapes)]"
   ]
  },
  {
   "cell_type": "code",
   "execution_count": 226,
   "metadata": {
    "collapsed": false
   },
   "outputs": [],
   "source": [
    "# lets turn the above into a function\n",
    "def vectorize_normalize_full(data, n=1):\n",
    "        probs = vectorize_normalize(data, ngram_range=(n, n))\n",
    "        prob_rows = probs.shape[0]\n",
    "        truncated_empty_features = empty_features[n-1][:prob_rows]\n",
    "        output = truncated_empty_features.add(probs, fill_value=0)\n",
    "        return output[truncated_empty_features.columns]"
   ]
  },
  {
   "cell_type": "code",
   "execution_count": 227,
   "metadata": {
    "collapsed": false
   },
   "outputs": [],
   "source": [
    "test = vectorize_normalize_full(['hey hey hey'])\n",
    "test2 = vectorize_normalize_full(['友達がでかい世界に住んでいます'])"
   ]
  },
  {
   "cell_type": "code",
   "execution_count": 228,
   "metadata": {
    "collapsed": false
   },
   "outputs": [
    {
     "data": {
      "text/html": [
       "<div>\n",
       "<table border=\"1\" class=\"dataframe\">\n",
       "  <thead>\n",
       "    <tr style=\"text-align: right;\">\n",
       "      <th></th>\n",
       "      <th></th>\n",
       "      <th></th>\n",
       "      <th>\"</th>\n",
       "      <th>%</th>\n",
       "      <th>'</th>\n",
       "      <th>(</th>\n",
       "      <th>)</th>\n",
       "      <th>*</th>\n",
       "      <th>,</th>\n",
       "      <th>-</th>\n",
       "      <th>...</th>\n",
       "      <th>히</th>\n",
       "      <th>﻿</th>\n",
       "      <th>，</th>\n",
       "      <th>１</th>\n",
       "      <th>２</th>\n",
       "      <th>５</th>\n",
       "      <th>６</th>\n",
       "      <th>７</th>\n",
       "      <th>８</th>\n",
       "      <th>：</th>\n",
       "    </tr>\n",
       "  </thead>\n",
       "  <tbody>\n",
       "    <tr>\n",
       "      <th>0</th>\n",
       "      <td>0</td>\n",
       "      <td>0.181818</td>\n",
       "      <td>0</td>\n",
       "      <td>0</td>\n",
       "      <td>0</td>\n",
       "      <td>0</td>\n",
       "      <td>0</td>\n",
       "      <td>0</td>\n",
       "      <td>0</td>\n",
       "      <td>0</td>\n",
       "      <td>...</td>\n",
       "      <td>0</td>\n",
       "      <td>0</td>\n",
       "      <td>0</td>\n",
       "      <td>0</td>\n",
       "      <td>0</td>\n",
       "      <td>0</td>\n",
       "      <td>0</td>\n",
       "      <td>0</td>\n",
       "      <td>0</td>\n",
       "      <td>0</td>\n",
       "    </tr>\n",
       "  </tbody>\n",
       "</table>\n",
       "<p>1 rows × 1721 columns</p>\n",
       "</div>"
      ],
      "text/plain": [
       "   \\t            \"  %  '  (  )  *  ,  - ...  히  ﻿  ，  １  ２  ５  ６  ７  ８  ：\n",
       "0   0  0.181818  0  0  0  0  0  0  0  0 ...  0  0  0  0  0  0  0  0  0  0\n",
       "\n",
       "[1 rows x 1721 columns]"
      ]
     },
     "execution_count": 228,
     "metadata": {},
     "output_type": "execute_result"
    }
   ],
   "source": [
    "test"
   ]
  },
  {
   "cell_type": "code",
   "execution_count": 229,
   "metadata": {
    "collapsed": false
   },
   "outputs": [
    {
     "data": {
      "text/html": [
       "<div>\n",
       "<table border=\"1\" class=\"dataframe\">\n",
       "  <thead>\n",
       "    <tr style=\"text-align: right;\">\n",
       "      <th></th>\n",
       "      <th></th>\n",
       "      <th>e</th>\n",
       "      <th>h</th>\n",
       "      <th>y</th>\n",
       "    </tr>\n",
       "  </thead>\n",
       "  <tbody>\n",
       "    <tr>\n",
       "      <th>0</th>\n",
       "      <td>0.181818</td>\n",
       "      <td>0.272727</td>\n",
       "      <td>0.272727</td>\n",
       "      <td>0.272727</td>\n",
       "    </tr>\n",
       "  </tbody>\n",
       "</table>\n",
       "</div>"
      ],
      "text/plain": [
       "                    e         h         y\n",
       "0  0.181818  0.272727  0.272727  0.272727"
      ]
     },
     "execution_count": 229,
     "metadata": {},
     "output_type": "execute_result"
    }
   ],
   "source": [
    "test.loc[:, (test != 0).any(axis=0)]"
   ]
  },
  {
   "cell_type": "code",
   "execution_count": 230,
   "metadata": {
    "collapsed": false
   },
   "outputs": [
    {
     "data": {
      "text/html": [
       "<div>\n",
       "<table border=\"1\" class=\"dataframe\">\n",
       "  <thead>\n",
       "    <tr style=\"text-align: right;\">\n",
       "      <th></th>\n",
       "      <th>い</th>\n",
       "      <th>か</th>\n",
       "      <th>が</th>\n",
       "      <th>す</th>\n",
       "      <th>で</th>\n",
       "      <th>に</th>\n",
       "      <th>ま</th>\n",
       "      <th>ん</th>\n",
       "      <th>世</th>\n",
       "      <th>住</th>\n",
       "      <th>友</th>\n",
       "      <th>界</th>\n",
       "    </tr>\n",
       "  </thead>\n",
       "  <tbody>\n",
       "    <tr>\n",
       "      <th>0</th>\n",
       "      <td>0.133333</td>\n",
       "      <td>0.066667</td>\n",
       "      <td>0.066667</td>\n",
       "      <td>0.066667</td>\n",
       "      <td>0.133333</td>\n",
       "      <td>0.066667</td>\n",
       "      <td>0.066667</td>\n",
       "      <td>0.066667</td>\n",
       "      <td>0.066667</td>\n",
       "      <td>0.066667</td>\n",
       "      <td>0.066667</td>\n",
       "      <td>0.066667</td>\n",
       "    </tr>\n",
       "  </tbody>\n",
       "</table>\n",
       "</div>"
      ],
      "text/plain": [
       "          い         か         が         す         で         に         ま  \\\n",
       "0  0.133333  0.066667  0.066667  0.066667  0.133333  0.066667  0.066667   \n",
       "\n",
       "          ん         世         住         友         界  \n",
       "0  0.066667  0.066667  0.066667  0.066667  0.066667  "
      ]
     },
     "execution_count": 230,
     "metadata": {},
     "output_type": "execute_result"
    }
   ],
   "source": [
    "test2.loc[:, (test2 != 0).any(axis=0)]"
   ]
  },
  {
   "cell_type": "code",
   "execution_count": 231,
   "metadata": {
    "collapsed": false
   },
   "outputs": [
    {
     "name": "stdout",
     "output_type": "stream",
     "text": [
      "*%*%*%*%*%*%*%*%*%*%*%*%*%*%*%*%*%*%*%*%*%*%*%*%*%*%*%*%*%*%*%*%*%*%*%\n",
      "Classifier: LogisticRegression(C=1.0, class_weight=None, dual=False, fit_intercept=True,\n",
      "          intercept_scaling=1, max_iter=100, multi_class='ovr',\n",
      "          penalty='l2', random_state=None, solver='liblinear', tol=0.0001,\n",
      "          verbose=0)\n",
      "\n",
      "======================================================================\n",
      "n-graph distribution: 1\n",
      "feature size: (272, 1721)\n",
      "Precision: 0.5330882352941176\n",
      "Recall: 0.5330882352941176\n",
      "F1 Score: 0.5330882352941176\n",
      "\n",
      "======================================================================\n",
      "n-graph distribution: 2\n",
      "feature size: (272, 14789)\n",
      "Precision: 0.8823529411764706\n",
      "Recall: 0.8823529411764706\n",
      "F1 Score: 0.8823529411764706\n",
      "\n",
      "======================================================================\n",
      "n-graph distribution: 3\n",
      "feature size: (272, 66427)\n",
      "Precision: 0.8933823529411765\n",
      "Recall: 0.8933823529411765\n",
      "F1 Score: 0.8933823529411765\n",
      "\n",
      "*%*%*%*%*%*%*%*%*%*%*%*%*%*%*%*%*%*%*%*%*%*%*%*%*%*%*%*%*%*%*%*%*%*%*%\n",
      "Classifier: MultinomialNB(alpha=1.0, class_prior=None, fit_prior=True)\n",
      "\n",
      "======================================================================\n",
      "n-graph distribution: 1\n",
      "feature size: (272, 1721)\n",
      "Precision: 0.14338235294117646\n",
      "Recall: 0.14338235294117646\n",
      "F1 Score: 0.14338235294117646\n",
      "\n",
      "======================================================================\n",
      "n-graph distribution: 2\n",
      "feature size: (272, 14789)\n",
      "Precision: 0.8198529411764706\n",
      "Recall: 0.8198529411764706\n",
      "F1 Score: 0.8198529411764706\n",
      "\n",
      "======================================================================\n",
      "n-graph distribution: 3\n",
      "feature size: (272, 66427)\n",
      "Precision: 0.8933823529411765\n",
      "Recall: 0.8933823529411765\n",
      "F1 Score: 0.8933823529411765\n",
      "\n"
     ]
    }
   ],
   "source": [
    "# loop through our classifiers\n",
    "for group in classifier_groups:\n",
    "    print('*%'*35)\n",
    "    print('Classifier: {}\\n'.format(group[0]))\n",
    "    \n",
    "    for i, clf in enumerate(group):\n",
    "        dist = t_reduced[i]\n",
    "        \n",
    "        # get the testing scores\n",
    "        # also had to drop the extra colum 'language' - its all zeros anwyay\n",
    "        predictions = clf.predict(dist)\n",
    "        score = precision_recall_fscore_support(testing_df.language, predictions, average='micro')\n",
    "        \n",
    "        # annotate\n",
    "        print('='*70)\n",
    "        print('n-graph distribution: {}'.format(i+1))\n",
    "        print('feature size: {}'.format(dist.shape))\n",
    "        print('Precision: {}'.format(score[0]))\n",
    "        print('Recall: {}'.format(score[1]))\n",
    "        print('F1 Score: {}\\n'.format(score[2]))"
   ]
  },
  {
   "cell_type": "code",
   "execution_count": 232,
   "metadata": {
    "collapsed": false
   },
   "outputs": [],
   "source": [
    "# We'd like to make a confusion matrix or something of the sort, but\n",
    "# there are just too many distinct classes for a confusion matrix.\n",
    "\n",
    "preds = logistic_clfs[1].predict(t_reduced[1])"
   ]
  },
  {
   "cell_type": "code",
   "execution_count": 233,
   "metadata": {
    "collapsed": false
   },
   "outputs": [
    {
     "data": {
      "text/plain": [
       "array(['Swahili_Kiswahili', 'Danish_Dansk', 'Yoruba', 'Zhuang',\n",
       "       'Akuapem_Twi', 'Mayan_Yucateco', 'Russian_Russky',\n",
       "       'Nyanja_Chechewa', 'Korean_Hankuko', 'Oshiwambo_Ndonga', 'Kazakh',\n",
       "       'Iloko_Ilocano', 'Turkish_Turkce', 'TokPisin', 'Chinese_Mandarin',\n",
       "       'Esperanto', 'Gagauz_Gagauzi', 'Tonga', 'Catalan', 'Lamnso_Lam',\n",
       "       'Arabela', 'Greenlandic_Inuktikut', 'Achuar', 'Norwegian',\n",
       "       'Guarani', 'Sundanese', 'Afrikaans', 'French_Francais', 'Igbo',\n",
       "       'Maninka', 'Yao', 'Hausa_Haoussa', 'Kurdish', 'Batonu_Bariba',\n",
       "       'Dagaare', 'Interlingua', 'Ponapean', 'Hindi_web', 'Trukese_Chuuk',\n",
       "       'Jola', 'Estonian_Eesti', 'Siswati', 'Bora', 'Bengali',\n",
       "       'Japanese_Nihongo', 'Burmese_Myanmar', 'Cashibo', 'Corsican',\n",
       "       'Tamil', 'Chamorro', 'Minangkabau', 'Luvale', 'Serbian_Srpski',\n",
       "       'HaitianCreole_Popular', 'OccitanLanguedocien', 'Farsi_Persian',\n",
       "       'Tenek_Huasteco', 'Dendi', 'Sukuma', 'Swedish_Svenska',\n",
       "       'Uighur_Uyghur', 'Breton', 'Filipino_Tagalog', 'Wama',\n",
       "       'SolomonsPidgin_Pijin', 'Latvian', 'Dangme', 'Frisian', 'Sanskrit',\n",
       "       'Tongan_Tonga', 'Runyankore', 'Maori', 'Hiligaynon', 'Hindi',\n",
       "       'Hani', 'Huasteco', 'Yagua', 'Amarakaeri', 'Albanian_Shqip',\n",
       "       'Candoshi', 'Spanish_Espanol', 'WesternSotho_Tswana', 'Marathi',\n",
       "       'Garifuna_Garifuna', 'Marshallese', 'Indonesian', 'Ditammari',\n",
       "       'Sami_Lappish', 'Paez', 'ScottishGaelic_GaidhligAlbanach', 'Zulu',\n",
       "       'Yapese', 'Totonaco', 'Bemba', 'Palauan', 'Sharanahua', 'Quechua',\n",
       "       'Maninka', 'Mende', 'Mixteco', 'Chayahuita', 'Aguaruna', 'Pulaar',\n",
       "       'Wolof', 'Wayuu', 'Cashinahua', 'Dutch_Nederlands', 'Rukonzo_Konjo',\n",
       "       'Czech', 'Asante', 'Caquinte', 'Somali', 'Waray',\n",
       "       'Mongolian_Khalkha', 'Chuuk_Trukese', 'Achehnese',\n",
       "       'Bulgarian_Balgarski', 'Sango_Sangho', 'Vietnamese',\n",
       "       'Chechewa_Nyanja', 'Kiche_Quiche', 'Ga', 'Picard', 'Rhaeto',\n",
       "       'Shona', 'Portuguese_Portugues', 'Basque_Euskara', 'Uzbek',\n",
       "       'Matses', 'NorthernSotho_Pedi', 'Icelandic_Yslenska',\n",
       "       'Campa_Pajonalino', 'Kasem', 'Baoule', 'Kapampangan', 'Kapampangan',\n",
       "       'Lao', 'Hmong_Miao_Northern', 'Punjabi_Panjabi', 'Miskito_Miskito',\n",
       "       'Greek_Ellinika', 'Chickasaw', 'Tetum', 'Romani', 'Urarina',\n",
       "       'ScottishGaelic_GaidhligAlbanach', 'Osetin_Ossetian', 'Luba',\n",
       "       'Pipil', 'Amuesha', 'Chinanteco', 'Asheninca', 'Ido',\n",
       "       'Soninke_Soninkanxaane', 'Afaan_Oromo_Oromiffa', 'Bosnian_Bosanski',\n",
       "       'Bichelamar', 'NigerianPidginEnglish', 'Mikmaq_Micmac',\n",
       "       'Nyanja_Chinyanja', 'Inuktikut_Greenlandic', 'Malagasy', 'Madurese',\n",
       "       'Nahuatl', 'Macedonian', 'Faroese', 'Hiligaynon', 'Samoan', 'Toba',\n",
       "       'Mazateco', 'Kituba', 'Kinyarwanda', 'Abkhaz', 'Hmong_Miao',\n",
       "       'Tzotzil', 'Peuhl', 'Gonja', 'Spanish_Espanol', 'Lunda_Chokwe',\n",
       "       'Amahuaca', 'Luxembourgish_Letzebuergeusch', 'Lingala',\n",
       "       'Sussu_Soussou', 'Malay_BahasaMelayu', 'Makonde', 'Dagbani',\n",
       "       'Catalan_Catala', 'Friulian_Friulano', 'Kannada', 'Bugisnese',\n",
       "       'Huitoto_Murui', 'Kaonde', 'Galician_Galego', 'Walloon_Wallon',\n",
       "       'Lozi', 'Maltese', 'Belorus_Belaruski', 'English',\n",
       "       'HaitianCreole_Popular', 'Kpelewo', 'Luganda_Ganda', 'Italian',\n",
       "       'Vlach', 'Xhosa', 'Norwegian', 'Ngangela_Nyemba', 'Bikol_Bicolano',\n",
       "       'Ewe_Eve', 'Adja', 'SouthernSotho_Sotho', 'Krio', 'Kimbundu_Mbundu',\n",
       "       'Kicongo', 'Italian_Italiano', 'Fon', 'Russian', 'German_Deutsch',\n",
       "       'Hawaiian', 'Fante', 'Magahi', 'Latin_Latina', 'Nomatsiguenga',\n",
       "       'Balinese', 'Sinhala', 'Hebrew_Ivrit', 'Themne_Temne', 'Quichua',\n",
       "       'Edo', 'Tzeltal', 'Otomi_Nahnu', 'Saraiki', 'Tiv', 'Guen_Mina',\n",
       "       'Finnish_Suomi', 'Rarotongan_MaoriCookIslands', 'Swaheli',\n",
       "       'Purhepecha', 'Mazahua_Jnatrjo', 'Rundi_Kirundi',\n",
       "       'Mapudungun_Mapuzgun', 'Kabye', 'Umbundu', 'OccitanAuvergnat',\n",
       "       'Hungarian_Magyar', 'Ndebele', 'Nepali', 'Sammarinese',\n",
       "       'Ibibio_Efik', 'Oromiffa_AfaanOromo', 'Kinyamwezi_Nyamwezi', 'Beti',\n",
       "       'Seereer', 'Zapoteco', 'Nzema', 'Ukrainian', 'Tojol', 'Tahitian',\n",
       "       'Sardinian', 'Shipibo', 'Mam', 'Cakchiquel', 'Welsh_Cymraeg',\n",
       "       'Cokwe', 'Gujarati', 'Aymara', 'Qechi_Kekchi', 'Spanish_Espanol',\n",
       "       'Fijian', 'Moore_More', 'Ashaninca', 'Czech_Cesky', 'Limba'], dtype=object)"
      ]
     },
     "execution_count": 233,
     "metadata": {},
     "output_type": "execute_result"
    }
   ],
   "source": [
    "preds"
   ]
  },
  {
   "cell_type": "code",
   "execution_count": 234,
   "metadata": {
    "collapsed": true
   },
   "outputs": [],
   "source": [
    "# this is where we will turn to dimensionality reduction for visualization"
   ]
  },
  {
   "cell_type": "code",
   "execution_count": 235,
   "metadata": {
    "collapsed": false
   },
   "outputs": [
    {
     "data": {
      "text/plain": [
       "array(['English'], dtype=object)"
      ]
     },
     "execution_count": 235,
     "metadata": {},
     "output_type": "execute_result"
    }
   ],
   "source": [
    "logistic_clfs[1].predict(vectorize_normalize_full(['hello, how are you, are you alive?'], n=2))"
   ]
  },
  {
   "cell_type": "code",
   "execution_count": 250,
   "metadata": {
    "collapsed": false
   },
   "outputs": [
    {
     "data": {
      "text/plain": [
       "array(['HaitianCreole_Popular'], \n",
       "      dtype='<U31')"
      ]
     },
     "execution_count": 250,
     "metadata": {},
     "output_type": "execute_result"
    }
   ],
   "source": [
    "mnb_clfs[2].predict(vectorize_normalize_full(['fuck you motherfucker'], n=3))"
   ]
  },
  {
   "cell_type": "code",
   "execution_count": 251,
   "metadata": {
    "collapsed": false
   },
   "outputs": [
    {
     "data": {
      "text/plain": [
       "array(['Japanese_Nihongo'], \n",
       "      dtype='<U31')"
      ]
     },
     "execution_count": 251,
     "metadata": {},
     "output_type": "execute_result"
    }
   ],
   "source": [
    "mnb_clfs[0].predict(vectorize_normalize_full(['友達']))"
   ]
  },
  {
   "cell_type": "code",
   "execution_count": 176,
   "metadata": {
    "collapsed": false
   },
   "outputs": [
    {
     "data": {
      "text/plain": [
       "array(['Abkhaz'], \n",
       "      dtype='<U31')"
      ]
     },
     "execution_count": 176,
     "metadata": {},
     "output_type": "execute_result"
    }
   ],
   "source": [
    "mnb_clfs[0].predict(vectorize_normalize_full(['我愛']))"
   ]
  },
  {
   "cell_type": "code",
   "execution_count": 177,
   "metadata": {
    "collapsed": false
   },
   "outputs": [
    {
     "data": {
      "text/plain": [
       "array(['Abkhaz'], \n",
       "      dtype='<U31')"
      ]
     },
     "execution_count": 177,
     "metadata": {},
     "output_type": "execute_result"
    }
   ],
   "source": [
    "mnb_clfs[1].predict(vectorize_normalize_full(['我愛'], n=2))"
   ]
  },
  {
   "cell_type": "markdown",
   "metadata": {},
   "source": [
    "# Visualizing"
   ]
  },
  {
   "cell_type": "code",
   "execution_count": null,
   "metadata": {
    "collapsed": true
   },
   "outputs": [],
   "source": [
    "# lets use principal component analysis to reduce our data into 3 dimensions\n"
   ]
  },
  {
   "cell_type": "code",
   "execution_count": 339,
   "metadata": {
    "collapsed": false
   },
   "outputs": [],
   "source": [
    "\n",
    "def vectorize_pca(df):\n",
    "    pca_matrix = pca.fit_transform(df)\n",
    "    pca_df = pd.DataFrame(pca_matrix, columns=['PC1', 'PC2', 'PC3'])\n",
    "    pca_df.insert(0, 'language', df.language)\n",
    "    return pca_df"
   ]
  },
  {
   "cell_type": "code",
   "execution_count": 342,
   "metadata": {
    "collapsed": false
   },
   "outputs": [
    {
     "data": {
      "text/html": [
       "<iframe id=\"igraph\" scrolling=\"no\" style=\"border:none;\" seamless=\"seamless\" src=\"https://plot.ly/~metasyn/164.embed\" height=\"587px\" width=\"1116px\"></iframe>"
      ],
      "text/plain": [
       "<plotly.tools.PlotlyDisplay object>"
      ]
     },
     "execution_count": 342,
     "metadata": {},
     "output_type": "execute_result"
    }
   ],
   "source": [
    "unigram.iplot(kind='scatter3d', x='PC1', y='PC2', z='PC3', mode='markers', text='language', colorscale='dark2', theme='space')"
   ]
  },
  {
   "cell_type": "code",
   "execution_count": 343,
   "metadata": {
    "collapsed": false
   },
   "outputs": [
    {
     "data": {
      "text/html": [
       "<iframe id=\"igraph\" scrolling=\"no\" style=\"border:none;\" seamless=\"seamless\" src=\"https://plot.ly/~metasyn/166.embed\" height=\"587px\" width=\"1116px\"></iframe>"
      ],
      "text/plain": [
       "<plotly.tools.PlotlyDisplay object>"
      ]
     },
     "execution_count": 343,
     "metadata": {},
     "output_type": "execute_result"
    }
   ],
   "source": [
    " unibigram.iplot(kind='scatter3d', x='PC1', y='PC2', z='PC3', mode='markers', text='language', colorscale='dark2', theme='space')"
   ]
  },
  {
   "cell_type": "code",
   "execution_count": 344,
   "metadata": {
    "collapsed": true
   },
   "outputs": [],
   "source": [
    "bigram = pipeline((2,2))"
   ]
  },
  {
   "cell_type": "code",
   "execution_count": 345,
   "metadata": {
    "collapsed": false
   },
   "outputs": [
    {
     "ename": "PlotlyError",
     "evalue": "Request throttled. You've created/updated more charts than your allowed limit of 30/hour. You may either wait one hour or upgrade your account. Visit https://plot.ly/settings/subscription/ to upgrade.",
     "output_type": "error",
     "traceback": [
      "\u001b[0;31m---------------------------------------------------------------------------\u001b[0m",
      "\u001b[0;31mPlotlyError\u001b[0m                               Traceback (most recent call last)",
      "\u001b[0;32m<ipython-input-345-a3985ea79f9c>\u001b[0m in \u001b[0;36m<module>\u001b[0;34m()\u001b[0m\n\u001b[0;32m----> 1\u001b[0;31m \u001b[0mbigram\u001b[0m\u001b[0;34m.\u001b[0m\u001b[0miplot\u001b[0m\u001b[0;34m(\u001b[0m\u001b[0mkind\u001b[0m\u001b[0;34m=\u001b[0m\u001b[0;34m'scatter3d'\u001b[0m\u001b[0;34m,\u001b[0m \u001b[0mx\u001b[0m\u001b[0;34m=\u001b[0m\u001b[0;34m'PC1'\u001b[0m\u001b[0;34m,\u001b[0m \u001b[0my\u001b[0m\u001b[0;34m=\u001b[0m\u001b[0;34m'PC2'\u001b[0m\u001b[0;34m,\u001b[0m \u001b[0mz\u001b[0m\u001b[0;34m=\u001b[0m\u001b[0;34m'PC3'\u001b[0m\u001b[0;34m,\u001b[0m \u001b[0mmode\u001b[0m\u001b[0;34m=\u001b[0m\u001b[0;34m'markers'\u001b[0m\u001b[0;34m,\u001b[0m \u001b[0mtext\u001b[0m\u001b[0;34m=\u001b[0m\u001b[0;34m'language'\u001b[0m\u001b[0;34m,\u001b[0m \u001b[0mcolorscale\u001b[0m\u001b[0;34m=\u001b[0m\u001b[0;34m'dark2'\u001b[0m\u001b[0;34m,\u001b[0m \u001b[0mtheme\u001b[0m\u001b[0;34m=\u001b[0m\u001b[0;34m'space'\u001b[0m\u001b[0;34m)\u001b[0m\u001b[0;34m\u001b[0m\u001b[0m\n\u001b[0m",
      "\u001b[0;32m/Users/aljohnson/Library/Python/3.4/lib/python/site-packages/cufflinks/plotlytools.py\u001b[0m in \u001b[0;36m_iplot\u001b[0;34m(self, data, layout, filename, sharing, kind, title, xTitle, yTitle, zTitle, theme, colors, colorscale, fill, width, dash, mode, symbol, size, barmode, sortbars, bargap, bargroupgap, bins, histnorm, histfunc, orientation, boxpoints, annotations, keys, bestfit, bestfit_colors, mean, mean_colors, categories, x, y, z, text, gridcolor, zerolinecolor, margin, labels, values, secondary_y, subplots, shape, error_x, error_y, error_type, asFrame, asDates, asFigure, asImage, dimensions, asPlot, asUrl, online, **kwargs)\u001b[0m\n\u001b[1;32m    916\u001b[0m                 \u001b[0;32mreturn\u001b[0m \u001b[0mpy\u001b[0m\u001b[0;34m.\u001b[0m\u001b[0mplot\u001b[0m\u001b[0;34m(\u001b[0m\u001b[0mfigure\u001b[0m\u001b[0;34m,\u001b[0m\u001b[0msharing\u001b[0m\u001b[0;34m=\u001b[0m\u001b[0msharing\u001b[0m\u001b[0;34m,\u001b[0m\u001b[0mfilename\u001b[0m\u001b[0;34m=\u001b[0m\u001b[0mfilename\u001b[0m\u001b[0;34m,\u001b[0m\u001b[0mvalidate\u001b[0m\u001b[0;34m=\u001b[0m\u001b[0mvalidate\u001b[0m\u001b[0;34m,\u001b[0m\u001b[0mauto_open\u001b[0m\u001b[0;34m=\u001b[0m\u001b[0;32mFalse\u001b[0m\u001b[0;34m)\u001b[0m\u001b[0;34m\u001b[0m\u001b[0m\n\u001b[1;32m    917\u001b[0m         \u001b[0;32melse\u001b[0m\u001b[0;34m:\u001b[0m\u001b[0;34m\u001b[0m\u001b[0m\n\u001b[0;32m--> 918\u001b[0;31m                 \u001b[0;32mreturn\u001b[0m \u001b[0miplot\u001b[0m\u001b[0;34m(\u001b[0m\u001b[0mfigure\u001b[0m\u001b[0;34m,\u001b[0m\u001b[0msharing\u001b[0m\u001b[0;34m=\u001b[0m\u001b[0msharing\u001b[0m\u001b[0;34m,\u001b[0m\u001b[0mfilename\u001b[0m\u001b[0;34m=\u001b[0m\u001b[0mfilename\u001b[0m\u001b[0;34m,\u001b[0m\u001b[0mvalidate\u001b[0m\u001b[0;34m=\u001b[0m\u001b[0mvalidate\u001b[0m\u001b[0;34m,\u001b[0m\u001b[0monline\u001b[0m\u001b[0;34m=\u001b[0m\u001b[0monline\u001b[0m\u001b[0;34m)\u001b[0m\u001b[0;34m\u001b[0m\u001b[0m\n\u001b[0m\u001b[1;32m    919\u001b[0m \u001b[0;34m\u001b[0m\u001b[0m\n\u001b[1;32m    920\u001b[0m \u001b[0;34m\u001b[0m\u001b[0m\n",
      "\u001b[0;32m/Users/aljohnson/Library/Python/3.4/lib/python/site-packages/cufflinks/plotlytools.py\u001b[0m in \u001b[0;36miplot\u001b[0;34m(data_or_figure, validate, sharing, filename, online, **kwargs)\u001b[0m\n\u001b[1;32m   1047\u001b[0m                         \u001b[0mfilename\u001b[0m\u001b[0;34m=\u001b[0m\u001b[0;34m'Plotly Playground {0}'\u001b[0m\u001b[0;34m.\u001b[0m\u001b[0mformat\u001b[0m\u001b[0;34m(\u001b[0m\u001b[0mtime\u001b[0m\u001b[0;34m.\u001b[0m\u001b[0mstrftime\u001b[0m\u001b[0;34m(\u001b[0m\u001b[0;34m\"%Y-%m-%d %H:%M:%S\"\u001b[0m\u001b[0;34m)\u001b[0m\u001b[0;34m)\u001b[0m\u001b[0;34m\u001b[0m\u001b[0m\n\u001b[1;32m   1048\u001b[0m \t\treturn py.iplot(data_or_figure,validate=validate,sharing=sharing,\n\u001b[0;32m-> 1049\u001b[0;31m \t\t\t\t\t\tfilename=filename)\n\u001b[0m\u001b[1;32m   1050\u001b[0m \u001b[0;34m\u001b[0m\u001b[0m\n\u001b[1;32m   1051\u001b[0m \u001b[0;32mdef\u001b[0m \u001b[0m_ta_figure\u001b[0m\u001b[0;34m(\u001b[0m\u001b[0mself\u001b[0m\u001b[0;34m,\u001b[0m\u001b[0;34m**\u001b[0m\u001b[0mkwargs\u001b[0m\u001b[0;34m)\u001b[0m\u001b[0;34m:\u001b[0m\u001b[0;34m\u001b[0m\u001b[0m\n",
      "\u001b[0;32m/Users/aljohnson/Library/Python/3.4/lib/python/site-packages/plotly/plotly/plotly.py\u001b[0m in \u001b[0;36miplot\u001b[0;34m(figure_or_data, **plot_options)\u001b[0m\n\u001b[1;32m    149\u001b[0m     \u001b[0;32mif\u001b[0m \u001b[0;34m'auto_open'\u001b[0m \u001b[0;32mnot\u001b[0m \u001b[0;32min\u001b[0m \u001b[0mplot_options\u001b[0m\u001b[0;34m:\u001b[0m\u001b[0;34m\u001b[0m\u001b[0m\n\u001b[1;32m    150\u001b[0m         \u001b[0mplot_options\u001b[0m\u001b[0;34m[\u001b[0m\u001b[0;34m'auto_open'\u001b[0m\u001b[0;34m]\u001b[0m \u001b[0;34m=\u001b[0m \u001b[0;32mFalse\u001b[0m\u001b[0;34m\u001b[0m\u001b[0m\n\u001b[0;32m--> 151\u001b[0;31m     \u001b[0murl\u001b[0m \u001b[0;34m=\u001b[0m \u001b[0mplot\u001b[0m\u001b[0;34m(\u001b[0m\u001b[0mfigure_or_data\u001b[0m\u001b[0;34m,\u001b[0m \u001b[0;34m**\u001b[0m\u001b[0mplot_options\u001b[0m\u001b[0;34m)\u001b[0m\u001b[0;34m\u001b[0m\u001b[0m\n\u001b[0m\u001b[1;32m    152\u001b[0m \u001b[0;34m\u001b[0m\u001b[0m\n\u001b[1;32m    153\u001b[0m     \u001b[0;32mif\u001b[0m \u001b[0misinstance\u001b[0m\u001b[0;34m(\u001b[0m\u001b[0mfigure_or_data\u001b[0m\u001b[0;34m,\u001b[0m \u001b[0mdict\u001b[0m\u001b[0;34m)\u001b[0m\u001b[0;34m:\u001b[0m\u001b[0;34m\u001b[0m\u001b[0m\n",
      "\u001b[0;32m/Users/aljohnson/Library/Python/3.4/lib/python/site-packages/plotly/plotly/plotly.py\u001b[0m in \u001b[0;36mplot\u001b[0;34m(figure_or_data, validate, **plot_options)\u001b[0m\n\u001b[1;32m    239\u001b[0m \u001b[0;34m\u001b[0m\u001b[0m\n\u001b[1;32m    240\u001b[0m     \u001b[0mplot_options\u001b[0m \u001b[0;34m=\u001b[0m \u001b[0m_plot_option_logic\u001b[0m\u001b[0;34m(\u001b[0m\u001b[0mplot_options\u001b[0m\u001b[0;34m)\u001b[0m\u001b[0;34m\u001b[0m\u001b[0m\n\u001b[0;32m--> 241\u001b[0;31m     \u001b[0mres\u001b[0m \u001b[0;34m=\u001b[0m \u001b[0m_send_to_plotly\u001b[0m\u001b[0;34m(\u001b[0m\u001b[0mfigure\u001b[0m\u001b[0;34m,\u001b[0m \u001b[0;34m**\u001b[0m\u001b[0mplot_options\u001b[0m\u001b[0;34m)\u001b[0m\u001b[0;34m\u001b[0m\u001b[0m\n\u001b[0m\u001b[1;32m    242\u001b[0m     \u001b[0;32mif\u001b[0m \u001b[0mres\u001b[0m\u001b[0;34m[\u001b[0m\u001b[0;34m'error'\u001b[0m\u001b[0;34m]\u001b[0m \u001b[0;34m==\u001b[0m \u001b[0;34m''\u001b[0m\u001b[0;34m:\u001b[0m\u001b[0;34m\u001b[0m\u001b[0m\n\u001b[1;32m    243\u001b[0m         \u001b[0;32mif\u001b[0m \u001b[0mplot_options\u001b[0m\u001b[0;34m[\u001b[0m\u001b[0;34m'auto_open'\u001b[0m\u001b[0;34m]\u001b[0m\u001b[0;34m:\u001b[0m\u001b[0;34m\u001b[0m\u001b[0m\n",
      "\u001b[0;32m/Users/aljohnson/Library/Python/3.4/lib/python/site-packages/plotly/plotly/plotly.py\u001b[0m in \u001b[0;36m_send_to_plotly\u001b[0;34m(figure, **plot_options)\u001b[0m\n\u001b[1;32m   1427\u001b[0m \u001b[0;34m\u001b[0m\u001b[0m\n\u001b[1;32m   1428\u001b[0m     \u001b[0;32mif\u001b[0m \u001b[0;34m'error'\u001b[0m \u001b[0;32min\u001b[0m \u001b[0mr\u001b[0m \u001b[0;32mand\u001b[0m \u001b[0mr\u001b[0m\u001b[0;34m[\u001b[0m\u001b[0;34m'error'\u001b[0m\u001b[0;34m]\u001b[0m \u001b[0;34m!=\u001b[0m \u001b[0;34m''\u001b[0m\u001b[0;34m:\u001b[0m\u001b[0;34m\u001b[0m\u001b[0m\n\u001b[0;32m-> 1429\u001b[0;31m         \u001b[0;32mraise\u001b[0m \u001b[0mexceptions\u001b[0m\u001b[0;34m.\u001b[0m\u001b[0mPlotlyError\u001b[0m\u001b[0;34m(\u001b[0m\u001b[0mr\u001b[0m\u001b[0;34m[\u001b[0m\u001b[0;34m'error'\u001b[0m\u001b[0;34m]\u001b[0m\u001b[0;34m)\u001b[0m\u001b[0;34m\u001b[0m\u001b[0m\n\u001b[0m\u001b[1;32m   1430\u001b[0m \u001b[0;34m\u001b[0m\u001b[0m\n\u001b[1;32m   1431\u001b[0m     \u001b[0;31m# Check if the url needs a secret key\u001b[0m\u001b[0;34m\u001b[0m\u001b[0;34m\u001b[0m\u001b[0m\n",
      "\u001b[0;31mPlotlyError\u001b[0m: Request throttled. You've created/updated more charts than your allowed limit of 30/hour. You may either wait one hour or upgrade your account. Visit https://plot.ly/settings/subscription/ to upgrade."
     ]
    }
   ],
   "source": [
    " bigram.iplot(kind='scatter3d', x='PC1', y='PC2', z='PC3', mode='markers', text='language', colorscale='dark2', theme='space')"
   ]
  },
  {
   "cell_type": "code",
   "execution_count": null,
   "metadata": {
    "collapsed": true
   },
   "outputs": [],
   "source": []
  }
 ],
 "metadata": {
  "kernelspec": {
   "display_name": "Python 3",
   "language": "python3",
   "name": "python3"
  },
  "language_info": {
   "codemirror_mode": {
    "name": "ipython",
    "version": 3
   },
   "file_extension": ".py",
   "mimetype": "text/x-python",
   "name": "python",
   "nbconvert_exporter": "python",
   "pygments_lexer": "ipython3",
   "version": "3.4.3"
  }
 },
 "nbformat": 4,
 "nbformat_minor": 0
}
