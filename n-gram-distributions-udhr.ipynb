{
 "cells": [
  {
   "cell_type": "markdown",
   "metadata": {},
   "source": [
    "# Visualizing 272 n-gram probability distributions\n",
    "\n",
    "N-grams, or n-character-substrings, can be used to automatically detect a given text's origin language. N-grams can also be used at the word level, but here we are looking at the character level. \n",
    "\n",
    "Why do we care about n-grams? By simple character frequency analysis, we can make some great features that allow for us to (usually) classify a language as Korean, English, Russian, or what have you. Some of this will be low haning fruit, because, believe it or not, using the frequency of Japanese characters (kana) is a dead give away that the language is Japanese. Korean too, is very easy to detect. \n",
    "\n",
    "However, things start to get more tricky since most writing systems or orthographies are shared by a larger group of languages. It gets even trickier when the text is short ! For many languages, unigram, bigram, trigram, and so on frequencies have already been compiled. For many smaller languages, large resources of text are not readily available on the web.\n",
    "\n",
    "What data should we use? This entire notebook is exploratory/for fun, so we're choosing something small. But we'd also like something that is highly translated (already). Thankfully the NLTK folk have put together a corpus of the Universal Declaration of Human Rights, which aside from its political importance, is one of the most translated documents in the world (well, at least at one point).  However, the domain of language use, by all means, is not reflective of casual speech for example, so it is important to keep that in mind as move forward. Not only are we focusing on a specific domain of language use, but register.\n",
    "\n",
    "What classifiers should we use? We'll use logistic regression (which is mathematically equivalent to the maximum entropy classifier, which is more commonly referred to in NLP literature) and multinomial naive bayes - both of these are (relatively) simple classifers that can be implemented in a variety of places. "
   ]
  },
  {
   "cell_type": "markdown",
   "metadata": {},
   "source": [
    "# Outline\n",
    "\n",
    "I will walk through calculating n-gram probabilities using the ever popular scikit learn machine learning library. I've commented quite a few of the cells in case you are unfamiliar with some of these libraries.\n",
    "\n",
    "I personally find that commented code isn't that annoying for someone who knows what is going on, but potentially really helpful for someone who is just getting the hang of the py-data ecosystem. \n",
    "\n",
    "Futher more, we will look at visualizing this data from a variety of angles using seaborn and plotly. The analysis is broken up into a few different parts.\n",
    "\n",
    "1.) ETL - Extraction, transformation and loadying\n",
    " - load data\n",
    " - clean data\n",
    " - extract features\n",
    " - create training and testing sets for our classifiers\n",
    "\n",
    "2.) Classification\n",
    " - train some classifiers (training data)\n",
    " - evaluate their performance (testing data)\n",
    " \n",
    "3.) Visualize\n",
    " - reduce dimensionality\n",
    "     - PCA\n",
    "     - TSNE\n",
    "     - SVD\n",
    "     - ICA\n",
    " - scatter plots\n",
    " - bubble plots\n",
    " - 3D plots\n",
    " "
   ]
  },
  {
   "cell_type": "code",
   "execution_count": 1,
   "metadata": {
    "collapsed": false
   },
   "outputs": [
    {
     "name": "stderr",
     "output_type": "stream",
     "text": [
      "/usr/local/lib/python3.4/site-packages/matplotlib/__init__.py:872: UserWarning: axes.color_cycle is deprecated and replaced with axes.prop_cycle; please use the latter.\n",
      "  warnings.warn(self.msg_depr % (key, alt_key))\n"
     ]
    }
   ],
   "source": [
    "# used to interact with the operating system\n",
    "import os\n",
    "\n",
    "# numpy is for numerical operations\n",
    "import numpy as np\n",
    "\n",
    "# pandas is for PANel DAta\n",
    "import pandas as pd\n",
    "\n",
    "# seaborn is for visualization\n",
    "import seaborn as sns\n",
    "\n",
    "# cufflinks is for visualization\n",
    "# it comes from plotly\n",
    "import cufflinks as cf\n",
    "\n",
    "# this makes matplotlib show inline\n",
    "%matplotlib inline\n",
    "\n",
    "# used in the ETL process\n",
    "from sklearn.cross_validation import train_test_split\n",
    "from sklearn.feature_extraction.text import CountVectorizer as CV\n",
    "\n",
    "# used in the classification process\n",
    "from sklearn.linear_model import LogisticRegression\n",
    "from sklearn.naive_bayes import MultinomialNB\n",
    "\n",
    "# used to compare classifiers\n",
    "from sklearn.metrics import precision_recall_fscore_support\n",
    "\n",
    "# used in the visualization process\n",
    "from matplotlib import pyplot as plt\n",
    "from sklearn.decomposition import PCA\n",
    "from sklearn.decomposition import TruncatedSVD\n",
    "from sklearn.manifold import TSNE\n",
    "\n"
   ]
  },
  {
   "cell_type": "markdown",
   "metadata": {},
   "source": [
    "# ETL\n",
    "\n"
   ]
  },
  {
   "cell_type": "code",
   "execution_count": 2,
   "metadata": {
    "collapsed": true
   },
   "outputs": [],
   "source": [
    "UDHR_CORPUS = \"/Users/aljohnson/nltk_data/corpora/udhr/\""
   ]
  },
  {
   "cell_type": "code",
   "execution_count": 3,
   "metadata": {
    "collapsed": false
   },
   "outputs": [],
   "source": [
    "FILE_NAMES = [f for f in os.listdir(UDHR_CORPUS) if ('UTF8' in f) or ('Latin1' in f)]"
   ]
  },
  {
   "cell_type": "code",
   "execution_count": 4,
   "metadata": {
    "collapsed": false
   },
   "outputs": [],
   "source": [
    "def file_reader(f):\n",
    "    if 'UTF8' in f:\n",
    "        with open(UDHR_CORPUS + f, 'r', encoding='UTF8', errors='ignore') as infile:\n",
    "            blob = infile.readlines()\n",
    "            return blob\n",
    "    elif 'Latin1' in f:\n",
    "        with open(UDHR_CORPUS + f, 'r', encoding='Latin1', errors='ignore') as infile:\n",
    "            blob = infile.readlines()\n",
    "            return blob"
   ]
  },
  {
   "cell_type": "code",
   "execution_count": 5,
   "metadata": {
    "collapsed": false
   },
   "outputs": [],
   "source": [
    "data = []\n",
    "for f in FILE_NAMES:\n",
    "    lines = file_reader(f)\n",
    "    for line in lines:\n",
    "        data.append([f, line.strip()])"
   ]
  },
  {
   "cell_type": "code",
   "execution_count": 6,
   "metadata": {
    "collapsed": true
   },
   "outputs": [],
   "source": [
    "# Add columns\n",
    "df = pd.DataFrame(data, columns=['language', 'text'])\n",
    "\n",
    "# Removing encoding from name\n",
    "df.language = df.language.map(lambda x: x.split('-')[:-1][0])\n",
    "\n",
    "# remove ending new lines\n",
    "df.text = df.text.map(lambda x: x.strip())"
   ]
  },
  {
   "cell_type": "code",
   "execution_count": 7,
   "metadata": {
    "collapsed": false
   },
   "outputs": [
    {
     "data": {
      "text/html": [
       "<div>\n",
       "<table border=\"1\" class=\"dataframe\">\n",
       "  <thead>\n",
       "    <tr style=\"text-align: right;\">\n",
       "      <th></th>\n",
       "      <th>language</th>\n",
       "      <th>text</th>\n",
       "    </tr>\n",
       "  </thead>\n",
       "  <tbody>\n",
       "    <tr>\n",
       "      <th>0</th>\n",
       "      <td>Abkhaz</td>\n",
       "      <td>﻿Ауаюытъыюса изин6ъа Зегьеицырзеи8шу Адекларациа</td>\n",
       "    </tr>\n",
       "    <tr>\n",
       "      <th>1</th>\n",
       "      <td>Abkhaz</td>\n",
       "      <td>Алагалажъа</td>\n",
       "    </tr>\n",
       "    <tr>\n",
       "      <th>2</th>\n",
       "      <td>Abkhaz</td>\n",
       "      <td>Дызус0заалак, ауаатъыюсатъ 0аацъара иалахъу ищ...</td>\n",
       "    </tr>\n",
       "    <tr>\n",
       "      <th>3</th>\n",
       "      <td>Abkhaz</td>\n",
       "      <td>иара убас ауаюы изин6ъа ратъамбареи хырюаа рым...</td>\n",
       "    </tr>\n",
       "    <tr>\n",
       "      <th>4</th>\n",
       "      <td>Abkhaz</td>\n",
       "      <td>иара убас ажълар6ъа реиюызара аизщазыяьара ацх...</td>\n",
       "    </tr>\n",
       "  </tbody>\n",
       "</table>\n",
       "</div>"
      ],
      "text/plain": [
       "  language                                               text\n",
       "0   Abkhaz   ﻿Ауаюытъыюса изин6ъа Зегьеицырзеи8шу Адекларациа\n",
       "1   Abkhaz                                         Алагалажъа\n",
       "2   Abkhaz  Дызус0заалак, ауаатъыюсатъ 0аацъара иалахъу ищ...\n",
       "3   Abkhaz  иара убас ауаюы изин6ъа ратъамбареи хырюаа рым...\n",
       "4   Abkhaz  иара убас ажълар6ъа реиюызара аизщазыяьара ацх..."
      ]
     },
     "execution_count": 7,
     "metadata": {},
     "output_type": "execute_result"
    }
   ],
   "source": [
    "df.head()"
   ]
  },
  {
   "cell_type": "code",
   "execution_count": 8,
   "metadata": {
    "collapsed": false
   },
   "outputs": [
    {
     "data": {
      "text/html": [
       "<div>\n",
       "<table border=\"1\" class=\"dataframe\">\n",
       "  <thead>\n",
       "    <tr style=\"text-align: right;\">\n",
       "      <th></th>\n",
       "      <th>language</th>\n",
       "      <th>text</th>\n",
       "    </tr>\n",
       "  </thead>\n",
       "  <tbody>\n",
       "    <tr>\n",
       "      <th>22752</th>\n",
       "      <td>Zulu</td>\n",
       "      <td>Isigaba 28</td>\n",
       "    </tr>\n",
       "    <tr>\n",
       "      <th>22753</th>\n",
       "      <td>Zulu</td>\n",
       "      <td>Wonke umuntu emphakathini nasemhlabeni kumele ...</td>\n",
       "    </tr>\n",
       "    <tr>\n",
       "      <th>22754</th>\n",
       "      <td>Zulu</td>\n",
       "      <td>Isigaba 29</td>\n",
       "    </tr>\n",
       "    <tr>\n",
       "      <th>22755</th>\n",
       "      <td>Zulu</td>\n",
       "      <td>1. Wonke umuntu uneqhaza emphakathini okuwukup...</td>\n",
       "    </tr>\n",
       "    <tr>\n",
       "      <th>22756</th>\n",
       "      <td>Zulu</td>\n",
       "      <td>2. Ekusebenziseni amalungelo nenkululeko yakhe...</td>\n",
       "    </tr>\n",
       "  </tbody>\n",
       "</table>\n",
       "</div>"
      ],
      "text/plain": [
       "      language                                               text\n",
       "22752     Zulu                                         Isigaba 28\n",
       "22753     Zulu  Wonke umuntu emphakathini nasemhlabeni kumele ...\n",
       "22754     Zulu                                         Isigaba 29\n",
       "22755     Zulu  1. Wonke umuntu uneqhaza emphakathini okuwukup...\n",
       "22756     Zulu  2. Ekusebenziseni amalungelo nenkululeko yakhe..."
      ]
     },
     "execution_count": 8,
     "metadata": {},
     "output_type": "execute_result"
    }
   ],
   "source": [
    "df.tail()"
   ]
  },
  {
   "cell_type": "code",
   "execution_count": 9,
   "metadata": {
    "collapsed": false
   },
   "outputs": [],
   "source": [
    "# test train split\n",
    "X_train, X_test, y_train, y_test = train_test_split(df.text, df.language, test_size=0.33, random_state=33)"
   ]
  },
  {
   "cell_type": "code",
   "execution_count": 10,
   "metadata": {
    "collapsed": false
   },
   "outputs": [],
   "source": [
    "def rejoin(x, y):\n",
    "    temp_df = pd.DataFrame.join(pd.DataFrame(y), pd.DataFrame(x))\n",
    "    data = []\n",
    "    for language in set(temp_df.language):\n",
    "        data.append([language,' '.join(temp_df[temp_df.language == language].text)])\n",
    "        \n",
    "    return pd.DataFrame(data, columns=['language', 'text'])"
   ]
  },
  {
   "cell_type": "code",
   "execution_count": 11,
   "metadata": {
    "collapsed": true
   },
   "outputs": [],
   "source": [
    "# we will use these throughout the notebook\n",
    "agglomed = rejoin(X_train, y_train)\n",
    "testing_df = rejoin(X_test, y_test)"
   ]
  },
  {
   "cell_type": "code",
   "execution_count": 12,
   "metadata": {
    "collapsed": false
   },
   "outputs": [
    {
     "data": {
      "text/plain": [
       "(272, 272)"
      ]
     },
     "execution_count": 12,
     "metadata": {},
     "output_type": "execute_result"
    }
   ],
   "source": [
    "# sanity check\n",
    "len(agglomed), len(testing_df)"
   ]
  },
  {
   "cell_type": "code",
   "execution_count": 13,
   "metadata": {
    "collapsed": true
   },
   "outputs": [],
   "source": [
    "def vectorize_normalize(data, ngram_range=(1,1)):\n",
    "    vectorizer = CV(analyzer='char', ngram_range=ngram_range)\n",
    "    count_matrix = vectorizer.fit_transform(data)\n",
    "    # divide by row totals for probability\n",
    "    count_matrix /= count_matrix.sum(axis=1)\n",
    "    df = pd.DataFrame(count_matrix, columns=vectorizer.get_feature_names())\n",
    "    return df"
   ]
  },
  {
   "cell_type": "code",
   "execution_count": 14,
   "metadata": {
    "collapsed": false
   },
   "outputs": [],
   "source": [
    "ngram_probs_matrix = [vectorize_normalize(agglomed.text, ngram_range=(n,n)) for n in range(1,4)]\n",
    "ngram_probs = [agglomed.join(p).drop('text', axis=1) for p in ngram_probs_matrix]"
   ]
  },
  {
   "cell_type": "code",
   "execution_count": 15,
   "metadata": {
    "collapsed": false
   },
   "outputs": [],
   "source": [
    "def plot_language_distribution(language, n=1, figsize=(20,15), ax=None):\n",
    "    if language not in agglomed.language.values:\n",
    "        return 'Not a valid language, dude.'\n",
    "    # filter\n",
    "    language_df = ngram_probs[n-1][ngram_probs[n].language == language]\n",
    "    # drop columns that are zero\n",
    "    language_df = language_df.loc[:, (language_df != 0).any(axis=0)]\n",
    "    our_plot = language_df.plot(\n",
    "        title=language, \n",
    "        kind='bar', \n",
    "        ax=ax, \n",
    "        figsize=figsize, \n",
    "        rot=45, \n",
    "        colormap='Accent')\n",
    "    \n",
    "    # change legend location\n",
    "    our_plot.legend(loc=0, ncol=15, mode='expand')\n",
    "    \n",
    "    # remove x ticks\n",
    "    our_plot.get_xaxis().set_visible(False)\n",
    "    \n",
    "    # set title\n",
    "    our_plot.set_title(language, fontdict={'fontsize': '25'})\n",
    "    \n",
    "    return our_plot"
   ]
  },
  {
   "cell_type": "code",
   "execution_count": 16,
   "metadata": {
    "collapsed": false
   },
   "outputs": [
    {
     "data": {
      "text/plain": [
       "<matplotlib.axes._subplots.AxesSubplot at 0x108b1f470>"
      ]
     },
     "execution_count": 16,
     "metadata": {},
     "output_type": "execute_result"
    },
    {
     "data": {
      "image/png": "[encoded data removed]",
      "text/plain": [
       "<matplotlib.figure.Figure at 0x112cd0cc0>"
      ]
     },
     "metadata": {},
     "output_type": "display_data"
    }
   ],
   "source": [
    "plot_language_distribution('English')\n"
   ]
  },
  {
   "cell_type": "code",
   "execution_count": 17,
   "metadata": {
    "collapsed": true
   },
   "outputs": [],
   "source": [
    "def plot_dists(languages):\n",
    "    f, axarr = plt.subplots(len(languages))\n",
    "    for n, l in enumerate(languages):\n",
    "        plot_language_distribution(l, ax=axarr[n], figsize=(25, 20))"
   ]
  },
  {
   "cell_type": "markdown",
   "metadata": {},
   "source": [
    "# beware !\n",
    "\n",
    "The colors dont necessary refer to the same character. So you can't just refer color to color."
   ]
  },
  {
   "cell_type": "code",
   "execution_count": 18,
   "metadata": {
    "collapsed": false
   },
   "outputs": [
    {
     "data": {
      "image/png": "[encoded data removed]",
      "text/plain": [
       "<matplotlib.figure.Figure at 0x1175dfe80>"
      ]
     },
     "metadata": {},
     "output_type": "display_data"
    }
   ],
   "source": [
    "plot_dists(['English', 'Spanish', 'Hawaiian', 'Ukrainian', 'Uzbek', 'Zulu'])"
   ]
  },
  {
   "cell_type": "code",
   "execution_count": 19,
   "metadata": {
    "collapsed": true
   },
   "outputs": [],
   "source": [
    "# what other languages could we look at?"
   ]
  },
  {
   "cell_type": "code",
   "execution_count": 20,
   "metadata": {
    "collapsed": false
   },
   "outputs": [
    {
     "data": {
      "text/plain": [
       "array(['Hindi_web', 'Malay_BahasaMelayu', 'Soninke_Soninkanxaane',\n",
       "       'Filipino_Tagalog', 'Sukuma', 'Mazateco', 'Beti', 'Lamnso_Lam',\n",
       "       'Ndebele', 'Hmong_Miao', 'Tamil', 'Danish_Dansk', 'Albanian_Shqip',\n",
       "       'Romani', 'Palauan', 'Dagaare', 'Oromiffa_AfaanOromo', 'Lao',\n",
       "       'Huitoto_Murui', 'Sinhala', 'Matses', 'Rarotongan_MaoriCookIslands',\n",
       "       'Catalan', 'Wolof', 'Jola', 'Russian_Russky', 'Mazahua_Jnatrjo',\n",
       "       'Rukonzo_Konjo', 'Edo', 'Hungarian_Magyar', 'Maltese',\n",
       "       'Kimbundu_Mbundu', 'Kapampangan', 'Purhepecha', 'Amahuaca',\n",
       "       'Osetin_Ossetian', 'Bichelamar', 'Chechewa_Nyanja',\n",
       "       'Mayan_Yucateco', 'French_Francais', 'Campa_Pajonalino', 'Dagbani',\n",
       "       'Dendi', 'Uzbek', 'Bengali', 'Czech', 'Fijian', 'Yoruba',\n",
       "       'Ashaninca', 'Adja', 'Kurdish', 'Greek_Ellinika',\n",
       "       'Garifuna_Garifuna', 'Galician_Galego', 'Somali', 'Dangme',\n",
       "       'Catalan_Catala', 'Kabye', 'Zhuang', 'Cashinahua', 'Farsi_Persian',\n",
       "       'Bugisnese', 'Latin_Latina', 'Hausa_Haoussa', 'Gonja', 'Mixteco',\n",
       "       'Tetum', 'Latvian', 'Bikol_Bicolano', 'Swedish_Svenska',\n",
       "       'NorthernSotho_Pedi', 'Kannada', 'Ngangela_Nyemba', 'Batonu_Bariba',\n",
       "       'Afaan_Oromo_Oromiffa', 'Portuguese_Portugues', 'Quichua',\n",
       "       'Cashibo', 'Aymara', 'Mende', 'Shona', 'Siswati', 'Sammarinese',\n",
       "       'Ditammari', 'Cebuano', 'Otomi_Nahnu', 'NigerianPidginEnglish',\n",
       "       'Kazakh', 'Saraiki', 'Ponapean', 'Akuapem_Twi', 'Kaonde',\n",
       "       'Huasteco', 'Kasem', 'Dutch_Nederlands', 'Belorus_Belaruski',\n",
       "       'Mongolian_Khalkha', 'Runyankore', 'Lozi', 'Paez', 'Pulaar',\n",
       "       'Mapudungun_Mapuzgun', 'Yapese', 'Seereer', 'Baoule',\n",
       "       'Sango_Sangho', 'Ewe_Eve', 'Bemba', 'Tojol', 'Shipibo', 'Caquinte',\n",
       "       'Samoan', 'Qechi_Kekchi', 'Tenek_Huasteco', 'Fon', 'Tiv', 'Hani',\n",
       "       'Rhaeto', 'Achehnese', 'Achuar', 'Walloon_Wallon', 'Themne_Temne',\n",
       "       'Punjabi_Panjabi', 'Nahuatl', 'Sundanese', 'Chickasaw', 'Swaheli',\n",
       "       'Korean_Hankuko', 'Bulgarian_Balgarski', 'Kituba',\n",
       "       'Oshiwambo_Ndonga', 'Amarakaeri', 'Sardinian', 'Asheninca',\n",
       "       'Picard', 'Peuhl', 'Nyanja_Chechewa', 'Yagua', 'Toba', 'Guarani',\n",
       "       'Waray', 'Gagauz_Gagauzi', 'Estonian_Eesti', 'Italian', 'Malagasy',\n",
       "       'Minangkabau', 'Vlach', 'Ibibio_Efik', 'Wayuu', 'Tzeltal',\n",
       "       'Tahitian', 'Ukrainian', 'German_Deutsch', 'Maori', 'Tongan_Tonga',\n",
       "       'Luvale', 'Mikmaq_Micmac', 'TokPisin', 'Mam', 'Javanese',\n",
       "       'Sami_Lappish', 'SolomonsPidgin_Pijin', 'HaitianCreole_Popular',\n",
       "       'Burmese_Myanmar', 'Chinese_Mandarin', 'Afrikaans', 'Ido',\n",
       "       'Hmong_Miao_Northern', 'Abkhaz', 'Miskito_Miskito', 'Fante',\n",
       "       'Japanese_Nihongo', 'Turkish_Turkce', 'Vietnamese', 'Chuuk_Trukese',\n",
       "       'Kiche_Quiche', 'Moore_More', 'Limba', 'Finnish_Suomi', 'Makonde',\n",
       "       'Kpelewo', 'Faroese', 'Luxembourgish_Letzebuergeusch', 'Tzotzil',\n",
       "       'Magahi', 'Ga', 'Xhosa', 'Greenlandic_Inuktikut',\n",
       "       'OccitanLanguedocien', 'Rundi_Kirundi', 'Kinyarwanda', 'Igbo',\n",
       "       'Friulian_Friulano', 'Lunda_Chokwe', 'Bosnian_Bosanski', 'Spanish',\n",
       "       'Nepali', 'WesternSotho_Tswana', 'Frisian', 'Hindi', 'Russian',\n",
       "       'Zapoteco', 'Norwegian', 'Maninka', 'Luba', 'Spanish_Espanol',\n",
       "       'Quechua', 'English', 'Luganda_Ganda', 'Tonga', 'Cakchiquel',\n",
       "       'Wama', 'Nyanja_Chinyanja', 'Norwegian_Norsk', 'Bambara',\n",
       "       'Sharanahua', 'Uighur_Uyghur', 'Macedonian', 'Swahili_Kiswahili',\n",
       "       'Cokwe', 'Madurese', 'SouthernSotho_Sotho', 'Italian_Italiano',\n",
       "       'Kinyamwezi_Nyamwezi', 'Chamorro', 'Asante', 'Chayahuita',\n",
       "       'Balinese', 'Iloko_Ilocano', 'Totonaco', 'Amuesha', 'Umbundu',\n",
       "       'Urarina', 'ScottishGaelic_GaidhligAlbanach', 'Basque_Euskara',\n",
       "       'Serbian_Srpski', 'Bora', 'Aguaruna', 'Marshallese', 'Hiligaynon',\n",
       "       'Gujarati', 'Asturian_Bable', 'Yao', 'Icelandic_Yslenska',\n",
       "       'IrishGaelic_Gaeilge', 'Krio', 'Esperanto', 'Hebrew_Ivrit',\n",
       "       'Arabela', 'Interlingua', 'Hawaiian', 'Chinanteco', 'Lingala',\n",
       "       'HaitianCreole_Kreyol', 'Nomatsiguenga', 'Nzema', 'Pipil', 'Breton',\n",
       "       'Zulu', 'Sussu_Soussou', 'Corsican', 'Marathi', 'Candoshi',\n",
       "       'Inuktikut_Greenlandic', 'Czech_Cesky', 'Trukese_Chuuk', 'Sanskrit',\n",
       "       'Welsh_Cymraeg', 'Guen_Mina', 'Indonesian', 'OccitanAuvergnat',\n",
       "       'Kicongo'], dtype=object)"
      ]
     },
     "execution_count": 20,
     "metadata": {},
     "output_type": "execute_result"
    }
   ],
   "source": [
    "agglomed.language.values"
   ]
  },
  {
   "cell_type": "code",
   "execution_count": 21,
   "metadata": {
    "collapsed": false
   },
   "outputs": [
    {
     "data": {
      "image/png": "[encoded data removed]",
      "text/plain": [
       "<matplotlib.figure.Figure at 0x117cd7550>"
      ]
     },
     "metadata": {},
     "output_type": "display_data"
    }
   ],
   "source": [
    "plot_dists(['Javanese', 'Italian', 'Xhosa', 'Czech', 'Quechua', 'Hindi'])"
   ]
  },
  {
   "cell_type": "code",
   "execution_count": 22,
   "metadata": {
    "collapsed": false
   },
   "outputs": [],
   "source": [
    "# hmm looks like seaborn / matplotlib only work with certain character sets"
   ]
  },
  {
   "cell_type": "markdown",
   "metadata": {},
   "source": [
    "# feature selection\n",
    "\n",
    "We need to do a little more cleaning "
   ]
  },
  {
   "cell_type": "code",
   "execution_count": 23,
   "metadata": {
    "collapsed": false
   },
   "outputs": [],
   "source": [
    "# grab column names and shapes\n",
    "# remove first feature because its a string, 'language'\n",
    "ngram_cols = [pdist.drop('language', axis=1).columns for pdist in ngram_probs]\n",
    "ngram_shapes = [pdist.drop('language', axis=1).shape for pdist in ngram_probs]"
   ]
  },
  {
   "cell_type": "code",
   "execution_count": 24,
   "metadata": {
    "collapsed": false
   },
   "outputs": [
    {
     "data": {
      "text/plain": [
       "[Index(['\\t', ' ', '\"', '%', ''', '(', ')', '*', ',', '-',\n",
       "        ...\n",
       "        '히', '﻿', '，', '１', '２', '５', '６', '７', '８', '：'],\n",
       "       dtype='object', length=1721),\n",
       " Index(['\\tа', '\\tн', '\\tу', '\\tх', '\\tດ', ' \"', ' '', ' (', ' )', ' *',\n",
       "        ...\n",
       "        '﻿အ', '﻿世', '， ', '１条', '２条', '５条', '６条', '７条', '８条', '： '],\n",
       "       dtype='object', length=14789),\n",
       " Index(['\\tал', '\\tна', '\\tул', '\\tхv', '\\tхэ', '\\tດ້', ' \" ', ' \"a', ' \"c',\n",
       "        ' \"d',\n",
       "        ...\n",
       "        '， 大', '， 并', '， 联', '１条 ', '２条 ', '５条 ', '６条 ', '７条 ', '８条 ', '： 第'],\n",
       "       dtype='object', length=66427)]"
      ]
     },
     "execution_count": 24,
     "metadata": {},
     "output_type": "execute_result"
    }
   ],
   "source": [
    "ngram_cols"
   ]
  },
  {
   "cell_type": "code",
   "execution_count": 25,
   "metadata": {
    "collapsed": false
   },
   "outputs": [],
   "source": [
    "# get them empty features\n",
    "empty_features = [pd.DataFrame(np.zeros(shape), columns=cols) \n",
    "                  for (shape, cols) in zip(ngram_shapes, ngram_cols)]"
   ]
  },
  {
   "cell_type": "code",
   "execution_count": 26,
   "metadata": {
    "collapsed": false
   },
   "outputs": [
    {
     "data": {
      "text/plain": [
       "[((272, 1721),\n",
       "     \\t     \"  %  '  (  )  *  ,  - ...  히  ﻿  ，  １  ２  ５  ６  ７  ８  ：\n",
       "  0   0  0  0  0  0  0  0  0  0  0 ...  0  0  0  0  0  0  0  0  0  0\n",
       "  \n",
       "  [1 rows x 1721 columns]),\n",
       " ((272, 14789),\n",
       "     \\tа  \\tн  \\tу  \\tх  \\tດ   \"   '   (   )   * ...  ﻿အ  ﻿世  ，   １条  ２条  ５条  \\\n",
       "  0    0    0    0    0    0   0   0   0   0   0 ...   0   0   0   0   0   0   \n",
       "  \n",
       "     ６条  ７条  ８条  ：   \n",
       "  0   0   0   0   0  \n",
       "  \n",
       "  [1 rows x 14789 columns]),\n",
       " ((272, 66427),\n",
       "     \\tал  \\tна  \\tул  \\tхv  \\tхэ  \\tດ້   \"    \"a   \"c   \"d ...   ， 大  ， 并  ， 联  \\\n",
       "  0     0     0     0     0     0     0    0    0    0    0 ...     0    0    0   \n",
       "  \n",
       "     １条   ２条   ５条   ６条   ７条   ８条   ： 第  \n",
       "  0    0    0    0    0    0    0    0  \n",
       "  \n",
       "  [1 rows x 66427 columns])]"
      ]
     },
     "execution_count": 26,
     "metadata": {},
     "output_type": "execute_result"
    }
   ],
   "source": [
    "# sanity check\n",
    "[(shape, f.head(1)) for (shape, f) in zip(ngram_shapes, empty_features)]"
   ]
  },
  {
   "cell_type": "markdown",
   "metadata": {},
   "source": [
    "# train our classifiers"
   ]
  },
  {
   "cell_type": "code",
   "execution_count": 27,
   "metadata": {
    "collapsed": false
   },
   "outputs": [
    {
     "name": "stdout",
     "output_type": "stream",
     "text": [
      "*%*%*%*%*%*%*%*%*%*%*%*%*%*%*%*%*%*%*%*%*%*%*%*%*%*%*%*%*%*%*%*%*%*%*%\n",
      "Classifier: LogisticRegression(C=1.0, class_weight=None, dual=False, fit_intercept=True,\n",
      "          intercept_scaling=1, max_iter=100, multi_class='ovr',\n",
      "          penalty='l2', random_state=None, solver='liblinear', tol=0.0001,\n",
      "          verbose=0)\n",
      "\n",
      "======================================================================\n",
      "n-graph distribution: 1\n",
      "feature size: (272, 1721)\n",
      "Precision: 0.5551470588235294\n",
      "Recall: 0.5551470588235294\n",
      "F1 Score: 0.5551470588235294\n",
      "\n",
      "======================================================================\n",
      "n-graph distribution: 2\n",
      "feature size: (272, 14789)\n",
      "Precision: 0.9632352941176471\n",
      "Recall: 0.9632352941176471\n",
      "F1 Score: 0.9632352941176471\n",
      "\n",
      "======================================================================\n",
      "n-graph distribution: 3\n",
      "feature size: (272, 66427)\n",
      "Precision: 0.9852941176470589\n",
      "Recall: 0.9852941176470589\n",
      "F1 Score: 0.9852941176470589\n",
      "\n",
      "*%*%*%*%*%*%*%*%*%*%*%*%*%*%*%*%*%*%*%*%*%*%*%*%*%*%*%*%*%*%*%*%*%*%*%\n",
      "Classifier: MultinomialNB(alpha=1.0, class_prior=None, fit_prior=True)\n",
      "\n",
      "======================================================================\n",
      "n-graph distribution: 1\n",
      "feature size: (272, 1721)\n",
      "Precision: 0.15808823529411764\n",
      "Recall: 0.15808823529411764\n",
      "F1 Score: 0.15808823529411764\n",
      "\n",
      "======================================================================\n",
      "n-graph distribution: 2\n",
      "feature size: (272, 14789)\n",
      "Precision: 0.9080882352941176\n",
      "Recall: 0.9080882352941176\n",
      "F1 Score: 0.9080882352941178\n",
      "\n",
      "======================================================================\n",
      "n-graph distribution: 3\n",
      "feature size: (272, 66427)\n",
      "Precision: 0.9852941176470589\n",
      "Recall: 0.9852941176470589\n",
      "F1 Score: 0.9852941176470589\n",
      "\n"
     ]
    }
   ],
   "source": [
    "# logistic regression initalization for each n-gram\n",
    "logistic_clfs = [LogisticRegression(), LogisticRegression(), LogisticRegression()]\n",
    "\n",
    "# multinomial naive bayes initlization for each n-gram\n",
    "mnb_clfs = [MultinomialNB(), MultinomialNB(), MultinomialNB()]\n",
    "\n",
    "classifier_groups = [logistic_clfs, mnb_clfs]\n",
    "\n",
    "# this is for fitting really - the scoring doesnt mean much on a training set\n",
    "for group in classifier_groups:\n",
    "    print('*%'*35)\n",
    "    print('Classifier: {}\\n'.format(group[0]))\n",
    "    \n",
    "    for i, clf in enumerate(group):\n",
    "        dist = ngram_probs_matrix[i]\n",
    "        clf.fit(dist, agglomed.language)\n",
    "        \n",
    "        # get the training scores\n",
    "        predictions = clf.predict(dist)\n",
    "        score = precision_recall_fscore_support(agglomed.language, predictions, average='micro')\n",
    "        \n",
    "        print('='*70)\n",
    "        print('n-graph distribution: {}'.format(i+1))\n",
    "        print('feature size: {}'.format(dist.shape))\n",
    "        print('Precision: {}'.format(score[0]))\n",
    "        print('Recall: {}'.format(score[1]))\n",
    "        print('F1 Score: {}\\n'.format(score[2]))\n",
    "        "
   ]
  },
  {
   "cell_type": "code",
   "execution_count": 28,
   "metadata": {
    "collapsed": true
   },
   "outputs": [],
   "source": [
    "t_ngram_probs_matrix = [vectorize_normalize(testing_df.text, ngram_range=(n,n)) for n in range(1,4)]\n",
    "t_ngram_probs = [testing_df.join(p).drop('text', axis=1) for p in ngram_probs_matrix]"
   ]
  },
  {
   "cell_type": "code",
   "execution_count": 29,
   "metadata": {
    "collapsed": false
   },
   "outputs": [
    {
     "data": {
      "text/html": [
       "<div>\n",
       "<table border=\"1\" class=\"dataframe\">\n",
       "  <thead>\n",
       "    <tr style=\"text-align: right;\">\n",
       "      <th></th>\n",
       "      <th></th>\n",
       "      <th></th>\n",
       "      <th>\"</th>\n",
       "      <th>%</th>\n",
       "      <th>'</th>\n",
       "      <th>(</th>\n",
       "      <th>)</th>\n",
       "      <th>*</th>\n",
       "      <th>+</th>\n",
       "      <th>,</th>\n",
       "      <th>...</th>\n",
       "      <th>１</th>\n",
       "      <th>２</th>\n",
       "      <th>３</th>\n",
       "      <th>４</th>\n",
       "      <th>５</th>\n",
       "      <th>６</th>\n",
       "      <th>７</th>\n",
       "      <th>８</th>\n",
       "      <th>９</th>\n",
       "      <th>：</th>\n",
       "    </tr>\n",
       "  </thead>\n",
       "  <tbody>\n",
       "    <tr>\n",
       "      <th>0</th>\n",
       "      <td>0</td>\n",
       "      <td>0.185641</td>\n",
       "      <td>0</td>\n",
       "      <td>0</td>\n",
       "      <td>0</td>\n",
       "      <td>0</td>\n",
       "      <td>0</td>\n",
       "      <td>0</td>\n",
       "      <td>0</td>\n",
       "      <td>0.005128</td>\n",
       "      <td>...</td>\n",
       "      <td>0</td>\n",
       "      <td>0</td>\n",
       "      <td>0</td>\n",
       "      <td>0</td>\n",
       "      <td>0</td>\n",
       "      <td>0</td>\n",
       "      <td>0</td>\n",
       "      <td>0</td>\n",
       "      <td>0</td>\n",
       "      <td>0</td>\n",
       "    </tr>\n",
       "  </tbody>\n",
       "</table>\n",
       "<p>1 rows × 1891 columns</p>\n",
       "</div>"
      ],
      "text/plain": [
       "   \\t            \"  %  '  (  )  *  +         , ...  １  ２  ３  ４  ５  ６  ７  ８  ９  \\\n",
       "0   0  0.185641  0  0  0  0  0  0  0  0.005128 ...  0  0  0  0  0  0  0  0  0   \n",
       "\n",
       "   ：  \n",
       "0  0  \n",
       "\n",
       "[1 rows x 1891 columns]"
      ]
     },
     "execution_count": 29,
     "metadata": {},
     "output_type": "execute_result"
    }
   ],
   "source": [
    "# the classifiers want the EXACT same features as input - so we're just filling in the missing features with zeros\n",
    "# is there a better way to do this? hmm. idk.\n",
    "\n",
    "empty_features[0].add(t_ngram_probs_matrix[0], fill_value=0).head(1)"
   ]
  },
  {
   "cell_type": "code",
   "execution_count": 30,
   "metadata": {
    "collapsed": true
   },
   "outputs": [],
   "source": [
    "# add whatever features might be present in the testing data\n",
    "# to the empty matrix of potential features from the training data\n",
    "t_full = [empty_features[i].add(test_set, fill_value=0)\n",
    "         for (i, test_set) in enumerate(t_ngram_probs_matrix)]"
   ]
  },
  {
   "cell_type": "code",
   "execution_count": 31,
   "metadata": {
    "collapsed": false
   },
   "outputs": [],
   "source": [
    "# however we might've actually added NEW features from the testing data\n",
    "# so we need to reduce our features just to the training features\n",
    "# we also don't need the 'language' column\n",
    "t_reduced = [t[empty_features[i].columns]\n",
    "         for (i, t) in enumerate(t_full)]"
   ]
  },
  {
   "cell_type": "code",
   "execution_count": 32,
   "metadata": {
    "collapsed": false
   },
   "outputs": [
    {
     "data": {
      "text/plain": [
       "[((272, 1721), (272, 1721)),\n",
       " ((272, 14789), (272, 14789)),\n",
       " ((272, 66427), (272, 66427))]"
      ]
     },
     "execution_count": 32,
     "metadata": {},
     "output_type": "execute_result"
    }
   ],
   "source": [
    "# are our dimensions the same?\n",
    "[(t.shape, n) for (t, n) in zip(t_reduced, ngram_shapes)]"
   ]
  },
  {
   "cell_type": "code",
   "execution_count": 33,
   "metadata": {
    "collapsed": false
   },
   "outputs": [],
   "source": [
    "# lets turn the above into a function\n",
    "def vectorize_normalize_full(data, n=1):\n",
    "        probs = vectorize_normalize(data, ngram_range=(n, n))\n",
    "        prob_rows = probs.shape[0]\n",
    "        truncated_empty_features = empty_features[n-1][:prob_rows]\n",
    "        output = truncated_empty_features.add(probs, fill_value=0)\n",
    "        return output[truncated_empty_features.columns]"
   ]
  },
  {
   "cell_type": "code",
   "execution_count": 34,
   "metadata": {
    "collapsed": false
   },
   "outputs": [],
   "source": [
    "test = vectorize_normalize_full(['hey hey hey'])\n",
    "test2 = vectorize_normalize_full(['友達がでかい世界に住んでいます'])"
   ]
  },
  {
   "cell_type": "code",
   "execution_count": 35,
   "metadata": {
    "collapsed": false
   },
   "outputs": [
    {
     "data": {
      "text/html": [
       "<div>\n",
       "<table border=\"1\" class=\"dataframe\">\n",
       "  <thead>\n",
       "    <tr style=\"text-align: right;\">\n",
       "      <th></th>\n",
       "      <th></th>\n",
       "      <th></th>\n",
       "      <th>\"</th>\n",
       "      <th>%</th>\n",
       "      <th>'</th>\n",
       "      <th>(</th>\n",
       "      <th>)</th>\n",
       "      <th>*</th>\n",
       "      <th>,</th>\n",
       "      <th>-</th>\n",
       "      <th>...</th>\n",
       "      <th>히</th>\n",
       "      <th>﻿</th>\n",
       "      <th>，</th>\n",
       "      <th>１</th>\n",
       "      <th>２</th>\n",
       "      <th>５</th>\n",
       "      <th>６</th>\n",
       "      <th>７</th>\n",
       "      <th>８</th>\n",
       "      <th>：</th>\n",
       "    </tr>\n",
       "  </thead>\n",
       "  <tbody>\n",
       "    <tr>\n",
       "      <th>0</th>\n",
       "      <td>0</td>\n",
       "      <td>0.181818</td>\n",
       "      <td>0</td>\n",
       "      <td>0</td>\n",
       "      <td>0</td>\n",
       "      <td>0</td>\n",
       "      <td>0</td>\n",
       "      <td>0</td>\n",
       "      <td>0</td>\n",
       "      <td>0</td>\n",
       "      <td>...</td>\n",
       "      <td>0</td>\n",
       "      <td>0</td>\n",
       "      <td>0</td>\n",
       "      <td>0</td>\n",
       "      <td>0</td>\n",
       "      <td>0</td>\n",
       "      <td>0</td>\n",
       "      <td>0</td>\n",
       "      <td>0</td>\n",
       "      <td>0</td>\n",
       "    </tr>\n",
       "  </tbody>\n",
       "</table>\n",
       "<p>1 rows × 1721 columns</p>\n",
       "</div>"
      ],
      "text/plain": [
       "   \\t            \"  %  '  (  )  *  ,  - ...  히  ﻿  ，  １  ２  ５  ６  ７  ８  ：\n",
       "0   0  0.181818  0  0  0  0  0  0  0  0 ...  0  0  0  0  0  0  0  0  0  0\n",
       "\n",
       "[1 rows x 1721 columns]"
      ]
     },
     "execution_count": 35,
     "metadata": {},
     "output_type": "execute_result"
    }
   ],
   "source": [
    "test"
   ]
  },
  {
   "cell_type": "code",
   "execution_count": 36,
   "metadata": {
    "collapsed": false
   },
   "outputs": [
    {
     "data": {
      "text/html": [
       "<div>\n",
       "<table border=\"1\" class=\"dataframe\">\n",
       "  <thead>\n",
       "    <tr style=\"text-align: right;\">\n",
       "      <th></th>\n",
       "      <th></th>\n",
       "      <th>e</th>\n",
       "      <th>h</th>\n",
       "      <th>y</th>\n",
       "    </tr>\n",
       "  </thead>\n",
       "  <tbody>\n",
       "    <tr>\n",
       "      <th>0</th>\n",
       "      <td>0.181818</td>\n",
       "      <td>0.272727</td>\n",
       "      <td>0.272727</td>\n",
       "      <td>0.272727</td>\n",
       "    </tr>\n",
       "  </tbody>\n",
       "</table>\n",
       "</div>"
      ],
      "text/plain": [
       "                    e         h         y\n",
       "0  0.181818  0.272727  0.272727  0.272727"
      ]
     },
     "execution_count": 36,
     "metadata": {},
     "output_type": "execute_result"
    }
   ],
   "source": [
    "test.loc[:, (test != 0).any(axis=0)]"
   ]
  },
  {
   "cell_type": "code",
   "execution_count": 37,
   "metadata": {
    "collapsed": false
   },
   "outputs": [
    {
     "data": {
      "text/html": [
       "<div>\n",
       "<table border=\"1\" class=\"dataframe\">\n",
       "  <thead>\n",
       "    <tr style=\"text-align: right;\">\n",
       "      <th></th>\n",
       "      <th>い</th>\n",
       "      <th>か</th>\n",
       "      <th>が</th>\n",
       "      <th>す</th>\n",
       "      <th>で</th>\n",
       "      <th>に</th>\n",
       "      <th>ま</th>\n",
       "      <th>ん</th>\n",
       "      <th>世</th>\n",
       "      <th>住</th>\n",
       "      <th>友</th>\n",
       "      <th>界</th>\n",
       "    </tr>\n",
       "  </thead>\n",
       "  <tbody>\n",
       "    <tr>\n",
       "      <th>0</th>\n",
       "      <td>0.133333</td>\n",
       "      <td>0.066667</td>\n",
       "      <td>0.066667</td>\n",
       "      <td>0.066667</td>\n",
       "      <td>0.133333</td>\n",
       "      <td>0.066667</td>\n",
       "      <td>0.066667</td>\n",
       "      <td>0.066667</td>\n",
       "      <td>0.066667</td>\n",
       "      <td>0.066667</td>\n",
       "      <td>0.066667</td>\n",
       "      <td>0.066667</td>\n",
       "    </tr>\n",
       "  </tbody>\n",
       "</table>\n",
       "</div>"
      ],
      "text/plain": [
       "          い         か         が         す         で         に         ま  \\\n",
       "0  0.133333  0.066667  0.066667  0.066667  0.133333  0.066667  0.066667   \n",
       "\n",
       "          ん         世         住         友         界  \n",
       "0  0.066667  0.066667  0.066667  0.066667  0.066667  "
      ]
     },
     "execution_count": 37,
     "metadata": {},
     "output_type": "execute_result"
    }
   ],
   "source": [
    "test2.loc[:, (test2 != 0).any(axis=0)]"
   ]
  },
  {
   "cell_type": "markdown",
   "metadata": {},
   "source": [
    "# testing our classifiers"
   ]
  },
  {
   "cell_type": "code",
   "execution_count": 38,
   "metadata": {
    "collapsed": false
   },
   "outputs": [
    {
     "name": "stdout",
     "output_type": "stream",
     "text": [
      "*%*%*%*%*%*%*%*%*%*%*%*%*%*%*%*%*%*%*%*%*%*%*%*%*%*%*%*%*%*%*%*%*%*%*%\n",
      "Classifier: LogisticRegression(C=1.0, class_weight=None, dual=False, fit_intercept=True,\n",
      "          intercept_scaling=1, max_iter=100, multi_class='ovr',\n",
      "          penalty='l2', random_state=None, solver='liblinear', tol=0.0001,\n",
      "          verbose=0)\n",
      "\n",
      "======================================================================\n",
      "n-graph distribution: 1\n",
      "feature size: (272, 1721)\n",
      "Precision: 0.5330882352941176\n",
      "Recall: 0.5330882352941176\n",
      "F1 Score: 0.5330882352941176\n",
      "\n",
      "======================================================================\n",
      "n-graph distribution: 2\n",
      "feature size: (272, 14789)\n",
      "Precision: 0.8823529411764706\n",
      "Recall: 0.8823529411764706\n",
      "F1 Score: 0.8823529411764706\n",
      "\n",
      "======================================================================\n",
      "n-graph distribution: 3\n",
      "feature size: (272, 66427)\n",
      "Precision: 0.8933823529411765\n",
      "Recall: 0.8933823529411765\n",
      "F1 Score: 0.8933823529411765\n",
      "\n",
      "*%*%*%*%*%*%*%*%*%*%*%*%*%*%*%*%*%*%*%*%*%*%*%*%*%*%*%*%*%*%*%*%*%*%*%\n",
      "Classifier: MultinomialNB(alpha=1.0, class_prior=None, fit_prior=True)\n",
      "\n",
      "======================================================================\n",
      "n-graph distribution: 1\n",
      "feature size: (272, 1721)\n",
      "Precision: 0.14338235294117646\n",
      "Recall: 0.14338235294117646\n",
      "F1 Score: 0.14338235294117646\n",
      "\n",
      "======================================================================\n",
      "n-graph distribution: 2\n",
      "feature size: (272, 14789)\n",
      "Precision: 0.8198529411764706\n",
      "Recall: 0.8198529411764706\n",
      "F1 Score: 0.8198529411764706\n",
      "\n",
      "======================================================================\n",
      "n-graph distribution: 3\n",
      "feature size: (272, 66427)\n",
      "Precision: 0.8933823529411765\n",
      "Recall: 0.8933823529411765\n",
      "F1 Score: 0.8933823529411765\n",
      "\n"
     ]
    }
   ],
   "source": [
    "# loop through our classifiers again\n",
    "for group in classifier_groups:\n",
    "    print('*%'*35)\n",
    "    print('Classifier: {}\\n'.format(group[0]))\n",
    "    \n",
    "    for i, clf in enumerate(group):\n",
    "        dist = t_reduced[i]\n",
    "        \n",
    "        # get the testing scores\n",
    "        # also had to drop the extra colum 'language' - its all zeros anwyay\n",
    "        predictions = clf.predict(dist)\n",
    "        score = precision_recall_fscore_support(testing_df.language, predictions, average='micro')\n",
    "        \n",
    "        # annotate\n",
    "        print('='*70)\n",
    "        print('n-graph distribution: {}'.format(i+1))\n",
    "        print('feature size: {}'.format(dist.shape))\n",
    "        print('Precision: {}'.format(score[0]))\n",
    "        print('Recall: {}'.format(score[1]))\n",
    "        print('F1 Score: {}\\n'.format(score[2]))"
   ]
  },
  {
   "cell_type": "code",
   "execution_count": 39,
   "metadata": {
    "collapsed": false
   },
   "outputs": [],
   "source": [
    "# We'd like to make a confusion matrix or something of the sort, but\n",
    "# there are just too many distinct classes for a confusion matrix.\n",
    "\n",
    "preds = logistic_clfs[1].predict(t_reduced[1])"
   ]
  },
  {
   "cell_type": "code",
   "execution_count": 40,
   "metadata": {
    "collapsed": false
   },
   "outputs": [
    {
     "data": {
      "text/plain": [
       "array(['Hindi', 'Malay_BahasaMelayu', 'Sukuma', 'Soninke_Soninkanxaane',\n",
       "       'Filipino_Tagalog', 'Mazateco', 'Beti', 'Lamnso_Lam', 'Ndebele',\n",
       "       'Hmong_Miao'], dtype=object)"
      ]
     },
     "execution_count": 40,
     "metadata": {},
     "output_type": "execute_result"
    }
   ],
   "source": [
    "preds[:10]"
   ]
  },
  {
   "cell_type": "markdown",
   "metadata": {},
   "source": [
    "# manual testing"
   ]
  },
  {
   "cell_type": "code",
   "execution_count": 41,
   "metadata": {
    "collapsed": false
   },
   "outputs": [
    {
     "data": {
      "text/plain": [
       "array(['English'], dtype=object)"
      ]
     },
     "execution_count": 41,
     "metadata": {},
     "output_type": "execute_result"
    }
   ],
   "source": [
    "logistic_clfs[1].predict(vectorize_normalize_full(['hello, how are you, are you alive?'], n=2))"
   ]
  },
  {
   "cell_type": "code",
   "execution_count": 42,
   "metadata": {
    "collapsed": false
   },
   "outputs": [
    {
     "data": {
      "text/plain": [
       "array(['Kasem'], dtype=object)"
      ]
     },
     "execution_count": 42,
     "metadata": {},
     "output_type": "execute_result"
    }
   ],
   "source": [
    "logistic_clfs[1].predict(vectorize_normalize_full(['lol no dawg imma computer'], n=2))"
   ]
  },
  {
   "cell_type": "code",
   "execution_count": 43,
   "metadata": {
    "collapsed": true
   },
   "outputs": [],
   "source": [
    "# ^ our training data is *very* small :)"
   ]
  },
  {
   "cell_type": "code",
   "execution_count": 44,
   "metadata": {
    "collapsed": false
   },
   "outputs": [
    {
     "data": {
      "text/plain": [
       "array(['Japanese_Nihongo'], \n",
       "      dtype='<U31')"
      ]
     },
     "execution_count": 44,
     "metadata": {},
     "output_type": "execute_result"
    }
   ],
   "source": [
    "mnb_clfs[0].predict(vectorize_normalize_full(['友達']))"
   ]
  },
  {
   "cell_type": "code",
   "execution_count": 45,
   "metadata": {
    "collapsed": false
   },
   "outputs": [
    {
     "data": {
      "text/plain": [
       "array(['Abkhaz'], \n",
       "      dtype='<U31')"
      ]
     },
     "execution_count": 45,
     "metadata": {},
     "output_type": "execute_result"
    }
   ],
   "source": [
    "mnb_clfs[0].predict(vectorize_normalize_full(['我愛']))"
   ]
  },
  {
   "cell_type": "code",
   "execution_count": 46,
   "metadata": {
    "collapsed": false
   },
   "outputs": [
    {
     "data": {
      "text/plain": [
       "array(['Interlingua'], \n",
       "      dtype='<U31')"
      ]
     },
     "execution_count": 46,
     "metadata": {},
     "output_type": "execute_result"
    }
   ],
   "source": [
    "mnb_clfs[1].predict(vectorize_normalize_full(['te amo mi amor, por que no quieres bilar conmigo ahora'], n=2))"
   ]
  },
  {
   "cell_type": "code",
   "execution_count": 55,
   "metadata": {
    "collapsed": true
   },
   "outputs": [],
   "source": [
    "# looks like we're going ot to need a lot more data :)"
   ]
  },
  {
   "cell_type": "markdown",
   "metadata": {},
   "source": [
    "# Visualizing"
   ]
  },
  {
   "cell_type": "code",
   "execution_count": 47,
   "metadata": {
    "collapsed": true
   },
   "outputs": [],
   "source": [
    "# lets reduce our data into 3 dimensions"
   ]
  },
  {
   "cell_type": "code",
   "execution_count": 48,
   "metadata": {
    "collapsed": false
   },
   "outputs": [],
   "source": [
    "\n",
    "pca = PCA(n_components=3)\n",
    "tsne = TSNE(n_components=3)\n",
    "svd = TruncatedSVD(n_components=3)\n",
    "\n",
    "def reduce(df, reducer):\n",
    "    reduced_matrix = reducer.fit_transform(df)\n",
    "    reduced_df = pd.DataFrame(reduced_matrix, columns=['PC1', 'PC2', 'PC3'])\n",
    "    reduced_df.insert(0, 'language', agglomed.language)\n",
    "    return reduced_df"
   ]
  },
  {
   "cell_type": "code",
   "execution_count": 49,
   "metadata": {
    "collapsed": false
   },
   "outputs": [],
   "source": [
    "unigrams_pca = reduce(ngram_probs_matrix[0], pca)"
   ]
  },
  {
   "cell_type": "code",
   "execution_count": 50,
   "metadata": {
    "collapsed": false
   },
   "outputs": [
    {
     "data": {
      "text/html": [
       "<iframe id=\"igraph\" scrolling=\"no\" style=\"border:none;\" seamless=\"seamless\" src=\"https://plot.ly/~metasyn/176.embed\" height=\"587px\" width=\"1116px\"></iframe>"
      ],
      "text/plain": [
       "<plotly.tools.PlotlyDisplay object>"
      ]
     },
     "execution_count": 50,
     "metadata": {},
     "output_type": "execute_result"
    }
   ],
   "source": [
    "unigrams_pca.iplot(kind='scatter3d', x='PC1', y='PC2', z='PC3', mode='markers', text='language', colorscale='dark2', theme='space')"
   ]
  },
  {
   "cell_type": "code",
   "execution_count": 51,
   "metadata": {
    "collapsed": true
   },
   "outputs": [],
   "source": [
    "# here we get a quite distinct grouping of non-latin character scripts on one side"
   ]
  },
  {
   "cell_type": "code",
   "execution_count": 52,
   "metadata": {
    "collapsed": false
   },
   "outputs": [
    {
     "data": {
      "text/html": [
       "<iframe id=\"igraph\" scrolling=\"no\" style=\"border:none;\" seamless=\"seamless\" src=\"https://plot.ly/~metasyn/178.embed\" height=\"587px\" width=\"1116px\"></iframe>"
      ],
      "text/plain": [
       "<plotly.tools.PlotlyDisplay object>"
      ]
     },
     "execution_count": 52,
     "metadata": {},
     "output_type": "execute_result"
    }
   ],
   "source": [
    "# lets try t-sne\n",
    "unigrams_tsne = reduce(ngram_probs_matrix[0], tsne)\n",
    "unigrams_tsne.iplot(kind='scatter3d', x='PC1', y='PC2', z='PC3', mode='markers', text='language', colorscale='dark2', theme='space')"
   ]
  },
  {
   "cell_type": "code",
   "execution_count": 53,
   "metadata": {
    "collapsed": true
   },
   "outputs": [],
   "source": [
    "# not quiet as coherent"
   ]
  },
  {
   "cell_type": "code",
   "execution_count": 54,
   "metadata": {
    "collapsed": false
   },
   "outputs": [
    {
     "data": {
      "text/html": [
       "<iframe id=\"igraph\" scrolling=\"no\" style=\"border:none;\" seamless=\"seamless\" src=\"https://plot.ly/~metasyn/180.embed\" height=\"587px\" width=\"1116px\"></iframe>"
      ],
      "text/plain": [
       "<plotly.tools.PlotlyDisplay object>"
      ]
     },
     "execution_count": 54,
     "metadata": {},
     "output_type": "execute_result"
    }
   ],
   "source": [
    "# lets also try svd\n",
    "unigrams_svd = reduce(ngram_probs_matrix[0], svd)\n",
    "unigrams_svd.iplot(kind='scatter3d', x='PC1', y='PC2', z='PC3', mode='markers', text='language', colorscale='dark2', theme='space')"
   ]
  },
  {
   "cell_type": "code",
   "execution_count": 73,
   "metadata": {
    "collapsed": true
   },
   "outputs": [],
   "source": [
    "# much more similar to the pca, as expected"
   ]
  },
  {
   "cell_type": "code",
   "execution_count": null,
   "metadata": {
    "collapsed": true
   },
   "outputs": [],
   "source": []
  }
 ],
 "metadata": {
  "kernelspec": {
   "display_name": "Python 3",
   "language": "python3",
   "name": "python3"
  },
  "language_info": {
   "codemirror_mode": {
    "name": "ipython",
    "version": 3
   },
   "file_extension": ".py",
   "mimetype": "text/x-python",
   "name": "python",
   "nbconvert_exporter": "python",
   "pygments_lexer": "ipython3",
   "version": "3.4.3"
  }
 },
 "nbformat": 4,
 "nbformat_minor": 0
}
